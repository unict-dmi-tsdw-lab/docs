{
 "cells": [
  {
   "cell_type": "markdown",
   "id": "8371ee4b",
   "metadata": {
    "slideshow": {
     "slide_type": "slide"
    }
   },
   "source": [
    "# Tecnologie per i Sistemi Distribuiti e il Web - LAB\n",
    "\n",
    "[Syllabus](http://web.dmi.unict.it/corsi/l-31/insegnamenti/?cod=19113)"
   ]
  },
  {
   "cell_type": "markdown",
   "id": "d23d1b29",
   "metadata": {
    "slideshow": {
     "slide_type": "subslide"
    }
   },
   "source": [
    "## Contact\n",
    "Unict \n",
    "\n",
    "Teams 💬 /Email 📧\n",
    "salvatore.nicotra1@unict.it\n",
    "\n",
    "[About.me](https://about.me/snicotra/)"
   ]
  },
  {
   "cell_type": "markdown",
   "id": "85357f33",
   "metadata": {
    "slideshow": {
     "slide_type": "subslide"
    }
   },
   "source": [
    "# Github Organization\n",
    "\n",
    "\n",
    "![github](https://github.githubassets.com/images/modules/logos_page/Octocat.png)\n",
    "\n",
    "https://github.com/orgs/unict-dmi-tswd-lab/"
   ]
  },
  {
   "cell_type": "markdown",
   "id": "0f94c0d8",
   "metadata": {
    "slideshow": {
     "slide_type": "subslide"
    }
   },
   "source": [
    "## Lab Goal"
   ]
  },
  {
   "cell_type": "markdown",
   "id": "c45b8707",
   "metadata": {
    "slideshow": {
     "slide_type": "subslide"
    }
   },
   "source": [
    "Searching for a good way to explain..."
   ]
  },
  {
   "cell_type": "markdown",
   "id": "23afafc8",
   "metadata": {
    "slideshow": {
     "slide_type": "fragment"
    }
   },
   "source": [
    "![](https://i.kym-cdn.com/photos/images/newsfeed/001/347/561/7e2.jpg)"
   ]
  },
  {
   "cell_type": "markdown",
   "id": "398ab7ad",
   "metadata": {
    "slideshow": {
     "slide_type": "subslide"
    }
   },
   "source": [
    "There will moments like this..."
   ]
  },
  {
   "cell_type": "markdown",
   "id": "9b3dfbca",
   "metadata": {
    "slideshow": {
     "slide_type": "fragment"
    }
   },
   "source": [
    "![](https://i.kym-cdn.com/photos/images/newsfeed/000/415/209/3b4.png)\n",
    "\n",
    "[Source](https://knowyourmeme.com/memes/computer-reaction-faces)"
   ]
  },
  {
   "cell_type": "markdown",
   "id": "674fd146",
   "metadata": {
    "slideshow": {
     "slide_type": "subslide"
    }
   },
   "source": [
    "In reality"
   ]
  },
  {
   "cell_type": "markdown",
   "id": "2bc0bd81",
   "metadata": {
    "slideshow": {
     "slide_type": "fragment"
    }
   },
   "source": [
    "![](https://www.bestepebloggers.com/wp-content/uploads/2022/03/Ayberk-Mart.jpg)\n",
    "\n",
    "[Credits](https://www.bestepebloggers.com/find-yourself/)\n"
   ]
  }
 ],
 "metadata": {
  "celltoolbar": "Slideshow",
  "kernelspec": {
   "display_name": "Python 3 (ipykernel)",
   "language": "python",
   "name": "python3"
  },
  "language_info": {
   "codemirror_mode": {
    "name": "ipython",
    "version": 3
   },
   "file_extension": ".py",
   "mimetype": "text/x-python",
   "name": "python",
   "nbconvert_exporter": "python",
   "pygments_lexer": "ipython3",
   "version": "3.9.10"
  },
  "rise": {
   "autolaunch": true,
   "enable_chalkboard": "true",
   "footer": "<div class=\"tswd-footer\"> *** TSWD - 2023 ***</div>",
   "header": "<div class=\"tswd-header\"></div>",
   "scroll": true,
   "theme": "white"
  }
 },
 "nbformat": 4,
 "nbformat_minor": 5
}

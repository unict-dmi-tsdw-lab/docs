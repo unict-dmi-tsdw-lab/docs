{
 "cells": [
  {
   "cell_type": "markdown",
   "id": "a05c9530",
   "metadata": {
    "slideshow": {
     "slide_type": "slide"
    }
   },
   "source": [
    "# Socket"
   ]
  },
  {
   "cell_type": "markdown",
   "id": "60deec7d",
   "metadata": {
    "slideshow": {
     "slide_type": "subslide"
    }
   },
   "source": [
    "Back to 1882 \n",
    "\n",
    "![](https://www.retrotouch.co.uk/user/news/Plug%20Socket.jpg)\n",
    "\n",
    "https://www.retrotouch.co.uk/blog/the-history-of-the-plug-socket.html"
   ]
  },
  {
   "cell_type": "markdown",
   "id": "e9981c75",
   "metadata": {
    "slideshow": {
     "slide_type": "subslide"
    }
   },
   "source": [
    "A Network Socket...\n",
    "\n",
    "First view in RFC 1971 for Arpanet , most implementation based on Unix [Berkley Socket](https://en.wikipedia.org/wiki/Berkeley_sockets)\n",
    "\n",
    "![right](https://examradar.com/wp-content/uploads/2019/02/Socket.png)\n",
    "\n",
    "https://examradar.com/java-networking-network-basics-socket-overview/"
   ]
  },
  {
   "cell_type": "markdown",
   "id": "176d61c5",
   "metadata": {
    "slideshow": {
     "slide_type": "slide"
    }
   },
   "source": [
    "## Why ?"
   ]
  },
  {
   "cell_type": "markdown",
   "id": "8e5d61c1",
   "metadata": {
    "slideshow": {
     "slide_type": "fragment"
    }
   },
   "source": [
    "Let's think about why socket are so important"
   ]
  },
  {
   "cell_type": "markdown",
   "id": "ffa11c99",
   "metadata": {
    "slideshow": {
     "slide_type": "slide"
    }
   },
   "source": [
    "## Socket in Java"
   ]
  },
  {
   "cell_type": "markdown",
   "id": "6b7872bb",
   "metadata": {
    "slideshow": {
     "slide_type": "fragment"
    }
   },
   "source": [
    "https://docs.oracle.com/en/java/javase/11/docs/api/java.base/java/net/package-summary.html"
   ]
  },
  {
   "cell_type": "markdown",
   "id": "b8aa50ec",
   "metadata": {
    "slideshow": {
     "slide_type": "slide"
    }
   },
   "source": [
    "# Examples"
   ]
  },
  {
   "cell_type": "markdown",
   "id": "8dcb59bb",
   "metadata": {
    "slideshow": {
     "slide_type": "subslide"
    }
   },
   "source": [
    "## 1. SimpleScraper"
   ]
  },
  {
   "cell_type": "markdown",
   "id": "2ac5bc54",
   "metadata": {
    "slideshow": {
     "slide_type": "fragment"
    }
   },
   "source": [
    "Package edu.unict.tswd.socket.tcp.simplescraper\n",
    "\n",
    "Simple client to\n",
    "- connect to http server (not https) \n",
    "- GET (read) the resources \n",
    "- Print in stdout\n",
    "\n",
    "Practice\n",
    "- Save to localfile (simple curl)\n",
    "- Parse HTTP response\n",
    "\n",
    "(Run in Idea)"
   ]
  },
  {
   "cell_type": "markdown",
   "id": "f8857a25",
   "metadata": {
    "slideshow": {
     "slide_type": "subslide"
    }
   },
   "source": [
    "## 2. Echo Server"
   ]
  },
  {
   "cell_type": "markdown",
   "id": "bfc88232",
   "metadata": {
    "slideshow": {
     "slide_type": "fragment"
    }
   },
   "source": [
    "Package edu.unict.tswd.socket.tcp.echoserver\n",
    "\n",
    "Simple application client/server to echo request from client stdin\n",
    "- clients reads from stdin, sends to server and gets response\n",
    "- server keeps echoing to client \n",
    "- until the SECRET word is sent\n",
    "- that kills both client and server\n",
    "\n",
    "Test\n",
    "- Multiple client ?\n",
    "\n",
    "Practice\n",
    "- Transform to chat\n"
   ]
  },
  {
   "cell_type": "markdown",
   "id": "0a595619",
   "metadata": {
    "slideshow": {
     "slide_type": "subslide"
    }
   },
   "source": [
    "### Build package\n",
    "\n",
    "```bash\n",
    "cd tswd-java-examples \n",
    "mvn clean install\n",
    "```"
   ]
  },
  {
   "cell_type": "markdown",
   "id": "221c034f",
   "metadata": {
    "slideshow": {
     "slide_type": "fragment"
    }
   },
   "source": [
    "### Start Server\n",
    "```bash\n",
    "java -cp target/tswd-java-examples-1.0-SNAPSHOT.jar edu.unict.tswd.socket.tcp.echoserver.EchoServer\n",
    "```"
   ]
  },
  {
   "cell_type": "markdown",
   "id": "f9735c43",
   "metadata": {
    "slideshow": {
     "slide_type": "fragment"
    }
   },
   "source": [
    "### Start Client\n",
    "```bash\n",
    "java -cp target/tswd-java-examples-1.0-SNAPSHOT.jar edu.unict.tswd.socket.tcp.echoserver.EchoClient\n",
    "```"
   ]
  },
  {
   "cell_type": "markdown",
   "id": "ee252e5c",
   "metadata": {
    "slideshow": {
     "slide_type": "subslide"
    }
   },
   "source": [
    "## 3. File Stream - Multicast"
   ]
  },
  {
   "cell_type": "markdown",
   "id": "04a7b739",
   "metadata": {
    "slideshow": {
     "slide_type": "fragment"
    }
   },
   "source": [
    "Package edu.unict.tswd.socket.udp.filestreamer\n",
    "\n",
    "Simple application to cast using UDP\n",
    "- server reads from a file \n",
    "- creates a Multi Cast Server on port 4666\n",
    "- creates a group\n",
    "- start sending data\n",
    "- clients connects to socket and join groups\n",
    "\n",
    "Practice\n",
    "- change resouces path from project root to standard maven main/resources \n",
    "- add more files\n"
   ]
  },
  {
   "cell_type": "markdown",
   "id": "79091e3c",
   "metadata": {
    "slideshow": {
     "slide_type": "subslide"
    }
   },
   "source": [
    "### Start Server\n",
    "```bash\n",
    "java -cp target/tswd-java-examples-1.0-SNAPSHOT.jar edu.unict.tswd.socket.udp.filestreamer.MulticastServer\n",
    "```"
   ]
  },
  {
   "cell_type": "markdown",
   "id": "d97d959e",
   "metadata": {
    "slideshow": {
     "slide_type": "fragment"
    }
   },
   "source": [
    "### Start Clients\n",
    "```bash\n",
    "java -cp target/tswd-java-examples-1.0-SNAPSHOT.jar edu.unict.tswd.socket.udp.filestreamer.MulticastClient\n",
    "java -cp target/tswd-java-examples-1.0-SNAPSHOT.jar edu.unict.tswd.socket.udp.filestreamer.MulticastClient\n",
    "```"
   ]
  },
  {
   "cell_type": "markdown",
   "id": "06499589",
   "metadata": {
    "slideshow": {
     "slide_type": "subslide"
    }
   },
   "source": [
    "## 4. File Stream - Line Reader"
   ]
  },
  {
   "cell_type": "markdown",
   "id": "c55a8152",
   "metadata": {
    "slideshow": {
     "slide_type": "fragment"
    }
   },
   "source": [
    "Package edu.unict.tswd.socket.udp.filestreamer\n",
    "\n",
    "Simple application to cast using UDP\n",
    "- server wait from client a request to read a line from a txt file \n",
    "- clients gets from stdin a filename and a line number and send to server\n",
    "- server open file, gets the lines and send to clients\n",
    "\n",
    "Practice\n",
    "- change resouces path from project root to standard maven main/resources \n"
   ]
  },
  {
   "cell_type": "markdown",
   "id": "197e05f3",
   "metadata": {
    "slideshow": {
     "slide_type": "subslide"
    }
   },
   "source": [
    "### Start Server\n",
    "```bash\n",
    "java -cp target/tswd-java-examples-1.0-SNAPSHOT.jar edu.unict.tswd.socket.udp.filestreamer.LineServer\n",
    "```"
   ]
  },
  {
   "cell_type": "markdown",
   "id": "d6d3a73f",
   "metadata": {
    "slideshow": {
     "slide_type": "fragment"
    }
   },
   "source": [
    "### Start Clients\n",
    "```bash\n",
    "java -cp target/tswd-java-examples-1.0-SNAPSHOT.jar edu.unict.tswd.socket.udp.filestreamer.LineClient\n",
    "java -cp target/tswd-java-examples-1.0-SNAPSHOT.jar edu.unict.tswd.socket.udp.filestreamer.LineClient\n",
    "```"
   ]
  },
  {
   "cell_type": "markdown",
   "id": "14ff7d3c",
   "metadata": {
    "slideshow": {
     "slide_type": "slide"
    }
   },
   "source": [
    "# NIO\n",
    "\n",
    "https://medium.com/coderscorner/tale-of-client-server-and-socket-a6ef54a74763"
   ]
  },
  {
   "cell_type": "markdown",
   "id": "75766ddf",
   "metadata": {
    "slideshow": {
     "slide_type": "subslide"
    }
   },
   "source": [
    "References\n",
    "- https://web.mit.edu/6.031/www/fa19/classes/23-sockets-networking/\n",
    "- https://medium.com/nerd-for-tech/client-server-programming-using-sockets-python-built-in-library-2379acc8a205\n",
    "- https://docs.oracle.com/javase/tutorial/networking/overview/networking.html"
   ]
  }
 ],
 "metadata": {
  "celltoolbar": "Slideshow",
  "kernelspec": {
   "display_name": "Python 3 (ipykernel)",
   "language": "python",
   "name": "python3"
  },
  "language_info": {
   "codemirror_mode": {
    "name": "ipython",
    "version": 3
   },
   "file_extension": ".py",
   "mimetype": "text/x-python",
   "name": "python",
   "nbconvert_exporter": "python",
   "pygments_lexer": "ipython3",
   "version": "3.9.10"
  },
  "rise": {
   "autolaunch": true,
   "enable_chalkboard": "true",
   "footer": "<div class=\"tswd-footer\"> *** TSWD - 2023 ***</div>",
   "header": "<div class=\"tswd-header\"></div>",
   "scroll": true,
   "theme": "white"
  }
 },
 "nbformat": 4,
 "nbformat_minor": 5
}

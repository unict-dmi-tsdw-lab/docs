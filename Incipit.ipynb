{
 "cells": [
  {
   "cell_type": "markdown",
   "id": "8371ee4b",
   "metadata": {
    "slideshow": {
     "slide_type": "slide"
    }
   },
   "source": [
    "# Tecnologie per i Sistemi Distribuiti e il Web - LAB\n",
    "\n",
    "[Syllabus](https://web.dmi.unict.it/corsi/l-31/insegnamenti?seuid=ECDA7A5E-B725-427E-AB24-39FDF7FE2C8F)"
   ]
  },
  {
   "cell_type": "markdown",
   "id": "d23d1b29",
   "metadata": {
    "slideshow": {
     "slide_type": "subslide"
    }
   },
   "source": [
    "## Contacts \n",
    "\n",
    "Teams 💬 /Email 📧 salvatore.nicotra1@unict.it\n",
    "\n",
    "🏢 Room 236-bis - Fri 14-15\n",
    "\n",
    "[About.me](https://about.me/snicotra/)"
   ]
  },
  {
   "cell_type": "markdown",
   "id": "0f94c0d8",
   "metadata": {
    "slideshow": {
     "slide_type": "subslide"
    }
   },
   "source": [
    "## Lab Goal"
   ]
  },
  {
   "cell_type": "markdown",
   "id": "c45b8707",
   "metadata": {
    "slideshow": {
     "slide_type": "subslide"
    }
   },
   "source": [
    "## Aspettative"
   ]
  },
  {
   "cell_type": "markdown",
   "id": "4fd4d3b9",
   "metadata": {
    "slideshow": {
     "slide_type": "fragment"
    }
   },
   "source": [
    "![](https://i.imgflip.com/811h6g.jpg)\n",
    "[NicsMeme](https://imgflip.com/i/811h6g)"
   ]
  },
  {
   "cell_type": "markdown",
   "id": "398ab7ad",
   "metadata": {
    "slideshow": {
     "slide_type": "subslide"
    }
   },
   "source": [
    "## Realtà"
   ]
  },
  {
   "cell_type": "markdown",
   "id": "9b3dfbca",
   "metadata": {
    "slideshow": {
     "slide_type": "fragment"
    }
   },
   "source": [
    "![](https://i.imgflip.com/811hgd.jpg)\n",
    "\n",
    "[NicsMeme](https://imgflip.com/i/811hgd)"
   ]
  },
  {
   "cell_type": "markdown",
   "id": "a21e9467",
   "metadata": {
    "slideshow": {
     "slide_type": "subslide"
    }
   },
   "source": [
    "## Behind the scene"
   ]
  },
  {
   "cell_type": "markdown",
   "id": "23afafc8",
   "metadata": {
    "slideshow": {
     "slide_type": "fragment"
    }
   },
   "source": [
    "![](https://i.kym-cdn.com/photos/images/newsfeed/001/347/561/7e2.jpg)"
   ]
  },
  {
   "cell_type": "markdown",
   "id": "0933c49a",
   "metadata": {
    "slideshow": {
     "slide_type": "slide"
    }
   },
   "source": [
    "# Topics\n",
    "https://miro.com/app/board/uXjVNf8LVV4=/?share_link_id=957338800058"
   ]
  },
  {
   "cell_type": "markdown",
   "id": "9526408e",
   "metadata": {
    "slideshow": {
     "slide_type": "subslide"
    }
   },
   "source": [
    "![](images/Topics.jpg)"
   ]
  },
  {
   "cell_type": "markdown",
   "id": "435bb2a9",
   "metadata": {
    "slideshow": {
     "slide_type": "slide"
    }
   },
   "source": [
    "# Tools"
   ]
  },
  {
   "cell_type": "markdown",
   "id": "e0be0ed7",
   "metadata": {
    "slideshow": {
     "slide_type": "subslide"
    }
   },
   "source": [
    "## Java 21\n",
    "\n",
    "![](https://upload.wikimedia.org/wikipedia/it/thumb/2/2e/Java_Logo.svg/64px-Java_Logo.svg.png)\n",
    "\n",
    "- https://openjdk.org/projects/jdk/21/\n",
    "- https://medium.com/codex/the-new-features-of-java-21-e8311e73f837\n",
    "- https://en.wikipedia.org/wiki/Java_version_history"
   ]
  },
  {
   "cell_type": "markdown",
   "id": "8da32d66",
   "metadata": {
    "slideshow": {
     "slide_type": "subslide"
    }
   },
   "source": [
    "## Visual Studio Code\n",
    "![](https://upload.wikimedia.org/wikipedia/commons/thumb/9/9a/Visual_Studio_Code_1.35_icon.svg/200px-Visual_Studio_Code_1.35_icon.svg.png)\n",
    "- https://code.visualstudio.com/\n",
    "- https://code.visualstudio.com/docs/java/extensions"
   ]
  },
  {
   "cell_type": "markdown",
   "id": "85357f33",
   "metadata": {
    "slideshow": {
     "slide_type": "subslide"
    }
   },
   "source": [
    "## Github Organization\n",
    "\n",
    "\n",
    "[![github](https://github.githubassets.com/images/modules/logos_page/GitHub-Logo.png) https://github.com/orgs/unict-dmi-tsdw-lab/](https://github.com/orgs/unict-dmi-tsdw-lab/)\n",
    "\n"
   ]
  },
  {
   "cell_type": "markdown",
   "id": "af18e7a4",
   "metadata": {
    "slideshow": {
     "slide_type": "subslide"
    }
   },
   "source": [
    "## Miro\n",
    "![](https://upload.wikimedia.org/wikipedia/en/thumb/9/9c/Mir_company_logo_with_text.tiff/lossless-page1-440px-Mir_company_logo_with_text.tiff.png)\n",
    "https://miro.com/\n"
   ]
  },
  {
   "cell_type": "markdown",
   "id": "69cc04d0",
   "metadata": {
    "slideshow": {
     "slide_type": "slide"
    }
   },
   "source": [
    "# Projects"
   ]
  },
  {
   "cell_type": "markdown",
   "id": "afe0b0c5",
   "metadata": {
    "slideshow": {
     "slide_type": "slide"
    }
   },
   "source": [
    "## WASD"
   ]
  },
  {
   "cell_type": "markdown",
   "id": "d111d0bc",
   "metadata": {
    "cell_style": "split",
    "slideshow": {
     "slide_type": "fragment"
    }
   },
   "source": [
    "![](https://upload.wikimedia.org/wikipedia/commons/thumb/1/14/ASUS_ROG_Strix_G15_%28G513QY-HQ012T%29-top_keyboard_WASD_PNr°0888.jpg/440px-ASUS_ROG_Strix_G15_%28G513QY-HQ012T%29-top_keyboard_WASD_PNr°0888.jpg)\n",
    "https://en.wiktionary.org/wiki/WASD"
   ]
  }
 ],
 "metadata": {
  "celltoolbar": "Slideshow",
  "kernelspec": {
   "display_name": "Python 3 (ipykernel)",
   "language": "python",
   "name": "python3"
  },
  "language_info": {
   "codemirror_mode": {
    "name": "ipython",
    "version": 3
   },
   "file_extension": ".py",
   "mimetype": "text/x-python",
   "name": "python",
   "nbconvert_exporter": "python",
   "pygments_lexer": "ipython3",
   "version": "3.9.15"
  },
  "rise": {
   "autolaunch": true,
   "enable_chalkboard": "true",
   "footer": "<div class=\"tswd-footer\"> *** TSDW - Lab - 2024 ***</div>",
   "header": "<div class=\"tswd-header\"></div>",
   "scroll": true,
   "theme": "white"
  }
 },
 "nbformat": 4,
 "nbformat_minor": 5
}

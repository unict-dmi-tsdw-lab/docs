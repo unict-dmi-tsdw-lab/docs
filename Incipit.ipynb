{
 "cells": [
  {
   "cell_type": "markdown",
   "id": "069dde4d",
   "metadata": {
    "slideshow": {
     "slide_type": "slide"
    }
   },
   "source": [
    "# Tecnologie per i Sistemi Distribuiti e il Web - LAB\n",
    "\n",
    "[Syllabus](http://web.dmi.unict.it/corsi/l-31/insegnamenti/?cod=19113)"
   ]
  },
  {
   "cell_type": "markdown",
   "id": "915581e8",
   "metadata": {
    "slideshow": {
     "slide_type": "subslide"
    }
   },
   "source": [
    "# Github Organization\n",
    "\n",
    "\n",
    "![github](https://github.githubassets.com/images/modules/logos_page/Octocat.png)\n",
    "\n",
    "https://github.com/orgs/unict-dmi-tswd-lab/"
   ]
  }
 ],
 "metadata": {
  "celltoolbar": "Slideshow",
  "kernelspec": {
   "display_name": "Python 3 (ipykernel)",
   "language": "python",
   "name": "python3"
  },
  "language_info": {
   "codemirror_mode": {
    "name": "ipython",
    "version": 3
   },
   "file_extension": ".py",
   "mimetype": "text/x-python",
   "name": "python",
   "nbconvert_exporter": "python",
   "pygments_lexer": "ipython3",
   "version": "3.9.10"
  },
  "rise": {
   "autolaunch": true,
   "enable_chalkboard": "true",
   "footer": "<div class=\"tswd-footer\"> *** TSWD - 2023 ***</div>",
   "header": "<div class=\"tswd-header\"></div>",
   "scroll": true,
   "theme": "white"
  }
 },
 "nbformat": 4,
 "nbformat_minor": 5
}

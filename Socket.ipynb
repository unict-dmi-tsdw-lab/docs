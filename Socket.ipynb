{
 "cells": [
  {
   "cell_type": "markdown",
   "id": "a05c9530",
   "metadata": {
    "slideshow": {
     "slide_type": "slide"
    }
   },
   "source": [
    "# Socket"
   ]
  },
  {
   "cell_type": "markdown",
   "id": "60deec7d",
   "metadata": {
    "slideshow": {
     "slide_type": "subslide"
    }
   },
   "source": [
    "Back to 1882 \n",
    "\n",
    "![](https://www.retrotouch.co.uk/user/news/Plug%20Socket.jpg)\n",
    "\n",
    "https://www.retrotouch.co.uk/blog/the-history-of-the-plug-socket.html"
   ]
  },
  {
   "cell_type": "markdown",
   "id": "e9981c75",
   "metadata": {
    "slideshow": {
     "slide_type": "subslide"
    }
   },
   "source": [
    "A Network Socket...\n",
    "\n",
    "First view in RFC 1971 for Arpanet , most implementation based on Unix [Berkley Socket](https://en.wikipedia.org/wiki/Berkeley_sockets)\n",
    "\n",
    "![right](https://examradar.com/wp-content/uploads/2019/02/Socket.png)\n",
    "\n",
    "https://examradar.com/java-networking-network-basics-socket-overview/"
   ]
  },
  {
   "cell_type": "markdown",
   "id": "176d61c5",
   "metadata": {
    "slideshow": {
     "slide_type": "slide"
    }
   },
   "source": [
    "## Why ?"
   ]
  },
  {
   "cell_type": "markdown",
   "id": "8e5d61c1",
   "metadata": {
    "slideshow": {
     "slide_type": "fragment"
    }
   },
   "source": [
    "Let's think about why socket are so important"
   ]
  },
  {
   "cell_type": "markdown",
   "id": "ffa11c99",
   "metadata": {
    "slideshow": {
     "slide_type": "slide"
    }
   },
   "source": [
    "## Socket in Java"
   ]
  },
  {
   "cell_type": "markdown",
   "id": "6b7872bb",
   "metadata": {
    "slideshow": {
     "slide_type": "fragment"
    }
   },
   "source": [
    "https://docs.oracle.com/en/java/javase/21/docs/api/java.base/java/net/package-summary.html"
   ]
  },
  {
   "cell_type": "markdown",
   "id": "b8aa50ec",
   "metadata": {
    "slideshow": {
     "slide_type": "slide"
    }
   },
   "source": [
    "# Examples"
   ]
  },
  {
   "cell_type": "markdown",
   "id": "c37d183b",
   "metadata": {
    "slideshow": {
     "slide_type": "slide"
    }
   },
   "source": [
    "# TCP Examples"
   ]
  },
  {
   "cell_type": "markdown",
   "id": "8dcb59bb",
   "metadata": {
    "slideshow": {
     "slide_type": "subslide"
    }
   },
   "source": [
    "## SimpleScraper"
   ]
  },
  {
   "cell_type": "markdown",
   "id": "2ac5bc54",
   "metadata": {
    "slideshow": {
     "slide_type": "fragment"
    }
   },
   "source": [
    "Package edu.unict.tswd.socket.tcp.simplescraper\n",
    "\n",
    "Simple client to\n",
    "- connect to http server (not https) \n",
    "- GET (read) the resources \n",
    "- Print in stdout\n",
    "\n",
    "Practice\n",
    "- Save to localfile (simple curl)\n",
    "- Parse HTTP response\n",
    "\n",
    "(Run in Code)"
   ]
  },
  {
   "cell_type": "markdown",
   "id": "f8857a25",
   "metadata": {
    "slideshow": {
     "slide_type": "subslide"
    }
   },
   "source": [
    "## Finger"
   ]
  },
  {
   "cell_type": "markdown",
   "id": "bfc88232",
   "metadata": {
    "slideshow": {
     "slide_type": "fragment"
    }
   },
   "source": [
    "Package edu.unict.tswd.socket.tcp.finger\n",
    "\n",
    "Simple client to\n",
    "\n",
    "- connect to finger server \n",
    "- search user\n",
    "- Print in stdout\n"
   ]
  },
  {
   "cell_type": "markdown",
   "id": "5c7299db",
   "metadata": {
    "slideshow": {
     "slide_type": "subslide"
    }
   },
   "source": [
    "## Echo Server"
   ]
  },
  {
   "cell_type": "markdown",
   "id": "3ad3e21f",
   "metadata": {
    "slideshow": {
     "slide_type": "fragment"
    }
   },
   "source": [
    "Package edu.unict.tswd.socket.tcp.echoserver\n",
    "\n",
    "Simple application client/server to echo request from client stdin\n",
    "- clients reads from stdin, sends to server and gets response\n",
    "- server keeps echoing to client \n",
    "- until the SECRET word is sent\n",
    "- that kills both client and server\n",
    "\n",
    "Test\n",
    "- Multiple client ?\n",
    "\n",
    "Practice\n",
    "- Transform to chat\n"
   ]
  },
  {
   "cell_type": "markdown",
   "id": "0a595619",
   "metadata": {
    "slideshow": {
     "slide_type": "subslide"
    }
   },
   "source": [
    "### Build package\n",
    "\n",
    "```bash\n",
    "cd tswd-java-examples \n",
    "mvn clean install\n",
    "```"
   ]
  },
  {
   "cell_type": "markdown",
   "id": "221c034f",
   "metadata": {
    "slideshow": {
     "slide_type": "fragment"
    }
   },
   "source": [
    "### Start Server\n",
    "```bash\n",
    "java -cp target/tswd-java-examples-1.0-SNAPSHOT.jar edu.unict.tswd.socket.tcp.echoserver.EchoServer\n",
    "```"
   ]
  },
  {
   "cell_type": "markdown",
   "id": "f9735c43",
   "metadata": {
    "slideshow": {
     "slide_type": "fragment"
    }
   },
   "source": [
    "### Start Client\n",
    "```bash\n",
    "java -cp target/tswd-java-examples-1.0-SNAPSHOT.jar edu.unict.tswd.socket.tcp.echoserver.EchoClient\n",
    "```"
   ]
  },
  {
   "cell_type": "markdown",
   "id": "e7d2a954",
   "metadata": {
    "slideshow": {
     "slide_type": "slide"
    }
   },
   "source": [
    "# UDP Examples"
   ]
  },
  {
   "cell_type": "markdown",
   "id": "ee252e5c",
   "metadata": {
    "slideshow": {
     "slide_type": "subslide"
    }
   },
   "source": [
    "## File Stream - Multicast"
   ]
  },
  {
   "cell_type": "markdown",
   "id": "04a7b739",
   "metadata": {
    "slideshow": {
     "slide_type": "fragment"
    }
   },
   "source": [
    "Package edu.unict.tswd.socket.udp.filestreamer\n",
    "\n",
    "Simple application to cast using UDP\n",
    "- server reads from a file \n",
    "- creates a Multi Cast Server on port 4666\n",
    "- creates a group\n",
    "- start sending data\n",
    "- clients connects to socket and join groups\n",
    "\n",
    "Practice\n",
    "- change resouces path from project root to standard maven main/resources \n",
    "- add more files\n"
   ]
  },
  {
   "cell_type": "markdown",
   "id": "d97d959e",
   "metadata": {
    "slideshow": {
     "slide_type": "fragment"
    }
   },
   "source": [
    "### Start Clients\n",
    "```bash\n",
    "java -cp target/tswd-java-examples-1.0-SNAPSHOT.jar edu.unict.tswd.socket.udp.filestreamer.MulticastClient\n",
    "java -cp target/tswd-java-examples-1.0-SNAPSHOT.jar edu.unict.tswd.socket.udp.filestreamer.MulticastClient\n",
    "```"
   ]
  },
  {
   "cell_type": "markdown",
   "id": "79091e3c",
   "metadata": {
    "slideshow": {
     "slide_type": "subslide"
    }
   },
   "source": [
    "### Start Server\n",
    "```bash\n",
    "java -cp target/tswd-java-examples-1.0-SNAPSHOT.jar edu.unict.tswd.socket.udp.filestreamer.MulticastServer\n",
    "```"
   ]
  },
  {
   "cell_type": "markdown",
   "id": "06499589",
   "metadata": {
    "slideshow": {
     "slide_type": "subslide"
    }
   },
   "source": [
    "## 4. File Stream - Line Reader"
   ]
  },
  {
   "cell_type": "markdown",
   "id": "c55a8152",
   "metadata": {
    "slideshow": {
     "slide_type": "fragment"
    }
   },
   "source": [
    "Package edu.unict.tswd.socket.udp.filestreamer\n",
    "\n",
    "Simple application to cast using UDP\n",
    "- server wait from client a request to read a line from a txt file \n",
    "- clients gets from stdin a filename and a line number and send to server\n",
    "- server open file, gets the lines and send to clients\n",
    "\n",
    "Practice\n",
    "- change resouces path from project root to standard maven main/resources \n"
   ]
  },
  {
   "cell_type": "markdown",
   "id": "197e05f3",
   "metadata": {
    "slideshow": {
     "slide_type": "subslide"
    }
   },
   "source": [
    "### Start Server\n",
    "```bash\n",
    "java -cp target/tswd-java-examples-1.0-SNAPSHOT.jar edu.unict.tswd.socket.udp.filestreamer.LineServer\n",
    "```"
   ]
  },
  {
   "cell_type": "markdown",
   "id": "d6d3a73f",
   "metadata": {
    "slideshow": {
     "slide_type": "fragment"
    }
   },
   "source": [
    "### Start Clients\n",
    "```bash\n",
    "java -cp target/tswd-java-examples-1.0-SNAPSHOT.jar edu.unict.tswd.socket.udp.filestreamer.LineClient\n",
    "java -cp target/tswd-java-examples-1.0-SNAPSHOT.jar edu.unict.tswd.socket.udp.filestreamer.LineClient\n",
    "```"
   ]
  },
  {
   "cell_type": "markdown",
   "id": "14ff7d3c",
   "metadata": {
    "slideshow": {
     "slide_type": "slide"
    }
   },
   "source": [
    "# Non Blocking IO\n",
    "\n"
   ]
  },
  {
   "cell_type": "markdown",
   "id": "3c56ce16",
   "metadata": {
    "slideshow": {
     "slide_type": "subslide"
    }
   },
   "source": [
    "## Very Short Introduction"
   ]
  },
  {
   "cell_type": "markdown",
   "id": "4945836b",
   "metadata": {
    "slideshow": {
     "slide_type": "fragment"
    }
   },
   "source": [
    "- Non blocking IO is a way to serve several requests using event-loop model and callback without using threads"
   ]
  },
  {
   "cell_type": "markdown",
   "id": "4de1153e",
   "metadata": {
    "slideshow": {
     "slide_type": "fragment"
    }
   },
   "source": [
    "- The concept is quite simple, instead of waste time (and CPU) waiting for IO (including network requests), let's go ahead and create callbacks to be invoked when IO task is completed"
   ]
  },
  {
   "cell_type": "markdown",
   "id": "bc7834d2",
   "metadata": {
    "slideshow": {
     "slide_type": "fragment"
    }
   },
   "source": [
    "- Node.js was created in 2009 by Ryan Dahl, who was a developer frustrated with the limitations of traditional web servers, which were based on the blocking I/O model. Dahl saw an opportunity to create a new kind of server-side platform that used non-blocking I/O, similar to what was used in event-driven programming. [Ref](https://medium.com/@aryakrishnaksh2021/the-power-of-non-blocking-i-o-a-beginners-guide-to-node-js-cfdfaad8007c)"
   ]
  },
  {
   "cell_type": "markdown",
   "id": "24b37fab",
   "metadata": {
    "slideshow": {
     "slide_type": "subslide"
    }
   },
   "source": [
    "## NIO 2 in Java\n",
    "https://docs.oracle.com/en/java/javase/21/docs/api/java.base/java/nio/package-summary.html"
   ]
  },
  {
   "cell_type": "markdown",
   "id": "c1ac2c87",
   "metadata": {
    "slideshow": {
     "slide_type": "subslide"
    }
   },
   "source": [
    "### Some good reads (and examples)\n",
    "- https://github.com/aliakh/demo-sockets-io-nio-nio2\n",
    "- https://medium.com/@livajorge7/breaking-down-the-differences-non-blocking-vs-asynchronous-programming-and-when-to-use-each-953f2354b052#:~:text=In%20non%2Dblocking%20programming%2C%20the%20application%20periodically%20checks%20the%20status,when%20a%20task%20is%20complete.\n",
    "- https://medium.com/@nilasini/java-nio-non-blocking-io-vs-io-1731caa910a2\n",
    "- Java NIO Ron Hitchens\n",
    "- Java IO, NIO and NIO.2(Apress,2015) "
   ]
  },
  {
   "cell_type": "markdown",
   "id": "de7c2f2c",
   "metadata": {
    "slideshow": {
     "slide_type": "slide"
    }
   },
   "source": [
    "### Example Non-Blocking"
   ]
  },
  {
   "cell_type": "markdown",
   "id": "6ff74860",
   "metadata": {
    "slideshow": {
     "slide_type": "subslide"
    }
   },
   "source": [
    "### Start Server\n",
    "```bash\n",
    "java -cp target/tswd-java-examples-1.0-SNAPSHOT.jar edu.unict.tswd.socket.nio.baeldung.EchoServer\n",
    "```"
   ]
  },
  {
   "cell_type": "markdown",
   "id": "104bf22a",
   "metadata": {
    "slideshow": {
     "slide_type": "subslide"
    }
   },
   "source": [
    "### Start Client\n",
    "```bash\n",
    "java -cp target/tswd-java-examples-1.0-SNAPSHOT.jar edu.unict.tswd.socket.nio.baeldung.EchoClient\n",
    "```"
   ]
  },
  {
   "cell_type": "markdown",
   "id": "78264ea6",
   "metadata": {
    "slideshow": {
     "slide_type": "slide"
    }
   },
   "source": [
    "### Example Asynchronous"
   ]
  },
  {
   "cell_type": "markdown",
   "id": "15a24b6c",
   "metadata": {
    "slideshow": {
     "slide_type": "subslide"
    }
   },
   "source": [
    "### Start Server\n",
    "```bash\n",
    "java -cp target/tswd-java-examples-1.0-SNAPSHOT.jar edu.unict.tswd.socket.nio.sampleapp.Server\n",
    "```"
   ]
  },
  {
   "cell_type": "markdown",
   "id": "63eb634e",
   "metadata": {
    "slideshow": {
     "slide_type": "subslide"
    }
   },
   "source": [
    "### Start Single Client\n",
    "```bash\n",
    "java -cp target/tswd-java-examples-1.0-SNAPSHOT.jar edu.unict.tswd.socket.nio.sampleapp.Client\n",
    "```"
   ]
  },
  {
   "cell_type": "markdown",
   "id": "669006e8",
   "metadata": {
    "slideshow": {
     "slide_type": "subslide"
    }
   },
   "source": [
    "### Start Multiple Client\n",
    "```bash\n",
    "while (true); do java -cp target/tswd-java-examples-1.0-SNAPSHOT.jar edu.unict.tswd.socket.nio.sampleapp.Client &; done\n",
    "```"
   ]
  },
  {
   "cell_type": "markdown",
   "id": "75766ddf",
   "metadata": {
    "slideshow": {
     "slide_type": "subslide"
    }
   },
   "source": [
    "References\n",
    "- https://web.mit.edu/6.031/www/fa19/classes/23-sockets-networking/\n",
    "- https://medium.com/nerd-for-tech/client-server-programming-using-sockets-python-built-in-library-2379acc8a205\n",
    "- https://docs.oracle.com/javase/tutorial/networking/overview/networking.html\n",
    "- https://www.baeldung.com/cs/socket-vs-rpc#:~:text=A%20socket%20is%20an%20endpoint,and%20one%20in%20the%20server.\n",
    "- https://medium.com/coderscorner/tale-of-client-server-and-socket-a6ef54a74763\n",
    "- https://medium.com/ing-blog/how-does-non-blocking-io-work-under-the-hood-6299d2953c74"
   ]
  },
  {
   "cell_type": "code",
   "execution_count": null,
   "id": "a8f6ed0a",
   "metadata": {},
   "outputs": [],
   "source": []
  }
 ],
 "metadata": {
  "celltoolbar": "Slideshow",
  "kernelspec": {
   "display_name": "Python 3 (ipykernel)",
   "language": "python",
   "name": "python3"
  },
  "language_info": {
   "codemirror_mode": {
    "name": "ipython",
    "version": 3
   },
   "file_extension": ".py",
   "mimetype": "text/x-python",
   "name": "python",
   "nbconvert_exporter": "python",
   "pygments_lexer": "ipython3",
   "version": "3.9.15"
  },
  "rise": {
   "autolaunch": true,
   "enable_chalkboard": "true",
   "footer": "<div class=\"tswd-footer\"> *** TSWD - Lab - 2024 ***</div>",
   "header": "<div class=\"tswd-header\"></div>",
   "scroll": true,
   "theme": "white"
  }
 },
 "nbformat": 4,
 "nbformat_minor": 5
}

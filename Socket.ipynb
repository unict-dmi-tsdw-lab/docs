{
 "cells": [
  {
   "cell_type": "markdown",
   "id": "a05c9530",
   "metadata": {
    "slideshow": {
     "slide_type": "slide"
    }
   },
   "source": [
    "# Socket"
   ]
  },
  {
   "cell_type": "markdown",
   "id": "8dcb59bb",
   "metadata": {
    "slideshow": {
     "slide_type": "slide"
    }
   },
   "source": [
    "# SimpleScraper"
   ]
  },
  {
   "cell_type": "markdown",
   "id": "715e2319",
   "metadata": {},
   "source": [
    "## Run in Idea"
   ]
  },
  {
   "cell_type": "markdown",
   "id": "f8857a25",
   "metadata": {},
   "source": [
    "# Echo Server"
   ]
  },
  {
   "cell_type": "markdown",
   "id": "bfc88232",
   "metadata": {},
   "source": [
    "## Run in terminal"
   ]
  }
 ],
 "metadata": {
  "celltoolbar": "Slideshow",
  "kernelspec": {
   "display_name": "Python 3 (ipykernel)",
   "language": "python",
   "name": "python3"
  },
  "language_info": {
   "codemirror_mode": {
    "name": "ipython",
    "version": 3
   },
   "file_extension": ".py",
   "mimetype": "text/x-python",
   "name": "python",
   "nbconvert_exporter": "python",
   "pygments_lexer": "ipython3",
   "version": "3.9.10"
  },
  "rise": {
   "autolaunch": true,
   "enable_chalkboard": "true",
   "footer": "<div class=\"tswd-footer\"> *** TSWD - 2023 ***</div>",
   "header": "<div class=\"tswd-header\"></div>",
   "scroll": true,
   "theme": "white"
  }
 },
 "nbformat": 4,
 "nbformat_minor": 5
}

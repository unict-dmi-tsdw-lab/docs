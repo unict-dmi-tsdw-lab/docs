{
 "cells": [
  {
   "cell_type": "markdown",
   "id": "a05c9530",
   "metadata": {
    "slideshow": {
     "slide_type": "slide"
    }
   },
   "source": [
    "# Spring Boot"
   ]
  },
  {
   "cell_type": "markdown",
   "id": "33384dcd",
   "metadata": {
    "slideshow": {
     "slide_type": "subslide"
    }
   },
   "source": [
    "## What is Spring Boot ?\n",
    "https://spring.io/projects/spring-boot"
   ]
  },
  {
   "cell_type": "markdown",
   "id": "4968f609",
   "metadata": {
    "cell_style": "split",
    "slideshow": {
     "slide_type": "subslide"
    }
   },
   "source": [
    "Spring Boot makes it easy to create:\n",
    "- stand-alone\n",
    "- production-grade \n",
    "\n",
    "Spring based Applications that you can \"just run\"."
   ]
  },
  {
   "cell_type": "markdown",
   "id": "bb4dba65",
   "metadata": {
    "cell_style": "split",
    "slideshow": {
     "slide_type": "fragment"
    }
   },
   "source": [
    "![](https://i.imgflip.com/74r18c.jpg)\n",
    "[NicsMeme](https://imgflip.com/i/74r18c)"
   ]
  },
  {
   "cell_type": "markdown",
   "id": "dd27d854",
   "metadata": {
    "cell_style": "split",
    "slideshow": {
     "slide_type": "subslide"
    }
   },
   "source": [
    "We take an opinionated view of the Spring platform and third-party libraries so you can get started with minimum fuss."
   ]
  },
  {
   "cell_type": "markdown",
   "id": "bf4aac91",
   "metadata": {
    "cell_style": "split",
    "slideshow": {
     "slide_type": "fragment"
    }
   },
   "source": [
    "Most Spring Boot applications need minimal Spring configuration. \n"
   ]
  },
  {
   "cell_type": "markdown",
   "id": "7c9fef8e",
   "metadata": {
    "slideshow": {
     "slide_type": "slide"
    }
   },
   "source": [
    "## Why Spring ?\n",
    "https://spring.io/why-spring"
   ]
  },
  {
   "cell_type": "markdown",
   "id": "ee7fbfd1",
   "metadata": {
    "cell_style": "split",
    "slideshow": {
     "slide_type": "subslide"
    }
   },
   "source": [
    "Spring makes programming Java quicker, easier, and safer for everybody. "
   ]
  },
  {
   "cell_type": "markdown",
   "id": "254793cb",
   "metadata": {
    "cell_style": "split",
    "slideshow": {
     "slide_type": "fragment"
    }
   },
   "source": [
    "Spring’s focus on speed, simplicity, and productivity has made it the world's most popular Java framework."
   ]
  },
  {
   "cell_type": "markdown",
   "id": "30390607",
   "metadata": {
    "slideshow": {
     "slide_type": "subslide"
    }
   },
   "source": [
    "![](images/jrebel-boot-ranking.png)\n",
    "https://www.jrebel.com/success/java-developer-productivity-report-2022"
   ]
  },
  {
   "cell_type": "markdown",
   "id": "3d620a5f",
   "metadata": {
    "slideshow": {
     "slide_type": "subslide"
    }
   },
   "source": [
    "![](https://vived.io/wp-content/uploads/2022/11/image-38.png)\n",
    "https://vived.io/new-era-for-spring-spring-framework-6-0-spring-boot-3-0-and-only-jdk-17-jvm-weekly-22/"
   ]
  },
  {
   "cell_type": "markdown",
   "id": "76c0913b",
   "metadata": {
    "slideshow": {
     "slide_type": "subslide"
    }
   },
   "source": [
    "From Spring in Action 6th Edition Craig Walls Manning\n",
    "![](https://images.manning.com/360/480/resize/book/c/108ea71-54af-47b6-9c39-148a1dc0ce4c/Walls-Spring-6ed-HI.png)"
   ]
  },
  {
   "cell_type": "markdown",
   "id": "c8b9136d",
   "metadata": {
    "cell_style": "split",
    "slideshow": {
     "slide_type": "subslide"
    }
   },
   "source": [
    "Any nontrivial application comprises many components, each responsible for its own piece of the overall application functionality, coordinating with the other application elements to get the job done. \n",
    "\n",
    "When the application is run, those components somehow need to be created and introduced to each other."
   ]
  },
  {
   "cell_type": "markdown",
   "id": "bb7cbe32",
   "metadata": {
    "cell_style": "split",
    "slideshow": {
     "slide_type": "fragment"
    }
   },
   "source": [
    "![](https://upload.wikimedia.org/wikipedia/commons/e/e0/Creaci%C3%B3n_de_Ad%C3%A1n.jpg)\n",
    "[WikiMedia](https://upload.wikimedia.org/wikipedia/commons/e/e0/Creaci%C3%B3n_de_Ad%C3%A1n.jpg)"
   ]
  },
  {
   "cell_type": "markdown",
   "id": "54c64180",
   "metadata": {
    "cell_style": "split",
    "slideshow": {
     "slide_type": "subslide"
    }
   },
   "source": [
    "At its core, Spring offers a container, often referred to as the Spring application context, that creates and manages application components. \n",
    "\n",
    "These components, or beans, are wired together inside the Spring application context to make a complete application, much like bricks, mortar, timber, nails, plumbing, and wiring are bound together to make a house."
   ]
  },
  {
   "cell_type": "markdown",
   "id": "add2524f",
   "metadata": {
    "cell_style": "split",
    "slideshow": {
     "slide_type": "fragment"
    }
   },
   "source": [
    "![](https://i.imgflip.com/74zdd0.jpg)\n",
    "[NicsMeme](https://imgflip.com/i/74zdd0)"
   ]
  },
  {
   "cell_type": "markdown",
   "id": "c21927ed",
   "metadata": {
    "slideshow": {
     "slide_type": "slide"
    }
   },
   "source": [
    "## What can Spring do ?"
   ]
  },
  {
   "cell_type": "markdown",
   "id": "d743491f",
   "metadata": {
    "cell_style": "split",
    "slideshow": {
     "slide_type": "subslide"
    }
   },
   "source": [
    "### Microservices\n",
    "Quickly deliver production‑grade features with independently evolvable microservices.\n",
    "\n",
    "With Spring Boot, your microservices can start small and iterate fast. That’s why it has become the de facto standard for Java™ microservices. \n",
    "\n",
    "Quickstart your project with Spring Initializr and then package as a JAR. With Spring Boot’s embedded server model, you’re ready to go in minutes.\n",
    "\n",
    "https://spring.io/microservices\n"
   ]
  },
  {
   "cell_type": "markdown",
   "id": "df531f7c",
   "metadata": {
    "cell_style": "split",
    "slideshow": {
     "slide_type": "fragment"
    }
   },
   "source": [
    "![](https://raw.githubusercontent.com/spring-io/sagan/main/sagan-client/src/images/microservices.svg)\n"
   ]
  },
  {
   "cell_type": "markdown",
   "id": "554b2c9b",
   "metadata": {
    "cell_style": "split",
    "slideshow": {
     "slide_type": "subslide"
    }
   },
   "source": [
    "### Reactive\n",
    "Spring's asynchronous, nonblocking architecture means you can get more from your computing resources.\n",
    "\n",
    "- One of the main reasons developers move from blocking to non-blocking code is efficiency. Reactive code does more work with fewer resources\n",
    "\n",
    "- The Spring portfolio provides two parallel stacks. One is based on a Servlet API with Spring MVC and Spring Data constructs.\n",
    "\n",
    "https://spring.io/reactive"
   ]
  },
  {
   "cell_type": "markdown",
   "id": "3aea1b6f",
   "metadata": {
    "cell_style": "split",
    "slideshow": {
     "slide_type": "fragment"
    }
   },
   "source": [
    "![](https://raw.githubusercontent.com/spring-io/sagan/main/sagan-client/src/images/reactive.svg)"
   ]
  },
  {
   "cell_type": "markdown",
   "id": "3e627e1c",
   "metadata": {
    "cell_style": "split",
    "slideshow": {
     "slide_type": "subslide"
    }
   },
   "source": [
    "### Cloud\n",
    "\n",
    "Your code, any cloud—we’ve got you covered. Connect and scale your services, whatever your platform.\n",
    "\n",
    "Developing distributed systems can be challenging. Complexity is moved from the application layer to the network layer and demands greater interaction between services. \n",
    "\n",
    "Making your code ‘cloud-native’ means dealing with [12-factor](https://12factor.net/) issues such as external configuration, statelessness, logging, and connecting to backing services.\n",
    "\n",
    "https://spring.io/cloud"
   ]
  },
  {
   "cell_type": "markdown",
   "id": "f30518da",
   "metadata": {
    "cell_style": "split",
    "slideshow": {
     "slide_type": "fragment"
    }
   },
   "source": [
    "![](https://raw.githubusercontent.com/spring-io/sagan/main/sagan-client/src/images/cloud.svg)"
   ]
  },
  {
   "cell_type": "markdown",
   "id": "2b74fd9c",
   "metadata": {
    "cell_style": "split",
    "slideshow": {
     "slide_type": "subslide"
    }
   },
   "source": [
    "### Serverless\n",
    "\n",
    "The ultimate flexibility. Scale up on demand and scale to zero when there’s no demand.\n",
    "\n",
    "#### What is serverless?\n",
    "Serverless workloads are “event-driven workloads that aren’t concerned with aspects normally handled by server infrastructure.” Concerns like “how many instances to run” and “what operating system to use” are all managed by a Function as a Service platform (or FaaS), leaving developers free to focus on business logic.\n",
    "\n",
    "Spring Cloud Function provides:\n",
    "- capabilities that lets Spring developers take advantage of serverless or FaaS platforms.\n",
    "- adaptors so that you can run your functions on the most common FaaS services including Amazon Lambda, Apache OpenWhisk, Microsoft Azure, and Project Riff.\n",
    "\n",
    "https://spring.io/serverless"
   ]
  },
  {
   "cell_type": "markdown",
   "id": "e6244cc7",
   "metadata": {
    "cell_style": "split",
    "slideshow": {
     "slide_type": "fragment"
    }
   },
   "source": [
    "![](https://raw.githubusercontent.com/spring-io/sagan/main/sagan-client/src/images/serverless.svg)"
   ]
  },
  {
   "cell_type": "markdown",
   "id": "0b3974d0",
   "metadata": {
    "cell_style": "split",
    "slideshow": {
     "slide_type": "subslide"
    }
   },
   "source": [
    "### Event Driven \n",
    "Integrate with your enterprise. React to business events. Act on your streaming data in realtime.\n",
    "\n",
    "Spring Cloud Stream improves your productivity when working with Apache Kafka, RabbitMQ, Azure Event Hub, and more, providing three key abstractions to simplify your code. “Binders” integrate with external messaging systems. “Bindings” bridge the gap between the messaging systems and your code. “Messages” provide the structure that your code uses to send and receive data.\n",
    "\n",
    "https://spring.io/event-driven"
   ]
  },
  {
   "cell_type": "markdown",
   "id": "7fb54697",
   "metadata": {
    "cell_style": "split",
    "slideshow": {
     "slide_type": "fragment"
    }
   },
   "source": [
    "![](https://raw.githubusercontent.com/spring-io/sagan/main/sagan-client/src/images/streams.svg)"
   ]
  },
  {
   "cell_type": "markdown",
   "id": "5b78ea44",
   "metadata": {
    "cell_style": "split",
    "slideshow": {
     "slide_type": "subslide"
    }
   },
   "source": [
    "### Batch\n",
    "\n",
    "Automated tasks. Offline processing of data at a time to suit you.\n",
    "\n",
    "Spring Batch is the de facto standard for batch processing on the JVM. Its implementation of common batch patterns, such as chunk-based processing and partitioning, lets you create high-performing, scalable batch applications that are resilient enough for your most mission-critical processes. Spring Boot provides an additional level of production-grade features to let you speed up the development of your batch processes.\n",
    "\n",
    "https://spring.io/batch"
   ]
  },
  {
   "cell_type": "markdown",
   "id": "31cbe279",
   "metadata": {
    "cell_style": "split",
    "slideshow": {
     "slide_type": "fragment"
    }
   },
   "source": [
    "![](https://raw.githubusercontent.com/spring-io/sagan/main/sagan-client/src/images/batch.svg)"
   ]
  },
  {
   "cell_type": "markdown",
   "id": "c67d33d7",
   "metadata": {
    "cell_style": "split",
    "slideshow": {
     "slide_type": "subslide"
    }
   },
   "source": [
    "### Web Apps\n",
    "\n",
    "Frameworks for fast, secure, and responsive web applications connected to any data store.\n",
    "\n",
    "Spring makes building web applications fast and hassle-free. \n",
    "\n",
    "By removing much of the boilerplate code and configuration associated with web development, you get a modern web programming model that streamlines the development of server-side HTML applications, REST APIs, and bidirectional, event-based systems."
   ]
  },
  {
   "cell_type": "markdown",
   "id": "05d23eb7",
   "metadata": {
    "cell_style": "split",
    "slideshow": {
     "slide_type": "fragment"
    }
   },
   "source": [
    "[![](https://raw.githubusercontent.com/spring-io/sagan/main/sagan-client/src/images/webapps-video.png)⏵ Spring Boot in less than 10 minutes](https://www.youtube.com/watch?v=lhkwLtDIMHI)"
   ]
  },
  {
   "cell_type": "markdown",
   "id": "d87ac4ce",
   "metadata": {
    "slideshow": {
     "slide_type": "slide"
    }
   },
   "source": [
    "## Example 1: Hello world"
   ]
  },
  {
   "cell_type": "markdown",
   "id": "4814b22a",
   "metadata": {
    "slideshow": {
     "slide_type": "subslide"
    }
   },
   "source": [
    "### Create template"
   ]
  },
  {
   "cell_type": "markdown",
   "id": "3d6f79c5",
   "metadata": {
    "slideshow": {
     "slide_type": "subslide"
    }
   },
   "source": [
    "Let's start with https://start.spring.io \n",
    "\n",
    "Spoiler: initializer is a Spring application itself and it's commonly included in IDE"
   ]
  },
  {
   "cell_type": "markdown",
   "id": "f6c038b8",
   "metadata": {
    "cell_style": "split",
    "slideshow": {
     "slide_type": "subslide"
    }
   },
   "source": [
    "Select \n",
    "- Project: Maven\n",
    "- Language: Java\n",
    "- Spring Boot: 3.0 (requires Java 17)\n",
    "- Packaging: Jar\n",
    "- Add Spring Web as dependency\n",
    "- Group: edu.unict.tswd.springboot\n",
    "- Artifact: helloworld\n",
    "\n",
    "Click on generate\n",
    "https://start.spring.io/#!type=maven-project&language=java&platformVersion=3.0.0&packaging=jar&jvmVersion=17&groupId=edu.unict.tswd.springboot&artifactId=helloworld&name=helloworld&description=Demo%20project%20for%20Spring%20Boot&packageName=edu.unict.tswd.springboot.helloworld&dependencies=web"
   ]
  },
  {
   "cell_type": "markdown",
   "id": "ea1f65d1",
   "metadata": {
    "cell_style": "split",
    "slideshow": {
     "slide_type": "fragment"
    }
   },
   "source": [
    "![](https://m.media-amazon.com/images/I/A13usaonutL._CLa%7C2140%2C2000%7C61UniGC7%2BNL.png%7C0%2C0%2C2140%2C2000%2B0.0%2C0.0%2C2140.0%2C2000.0_AC_UL1500_.png)\n",
    "\n",
    "https://arnaud-nauwynck.github.io/docs/Intro-SpringBoot.pdf"
   ]
  },
  {
   "cell_type": "markdown",
   "id": "9ac7762a",
   "metadata": {
    "slideshow": {
     "slide_type": "subslide"
    }
   },
   "source": [
    "## Edit the code\n",
    "- Unzip file (for Idea delete bundled .mvn and mvnw) and open pom.xml with IDE\n",
    "- Setup project SDK \n",
    "- Check for main class HelloworldApplication"
   ]
  },
  {
   "cell_type": "markdown",
   "id": "018bf612",
   "metadata": {
    "slideshow": {
     "slide_type": "subslide"
    }
   },
   "source": [
    "## Add a static content\n",
    "in src/resources/static add an HTML file\n",
    "```html\n",
    "<!DOCTYPE html>\n",
    "<html lang=\"en\">\n",
    "<head>\n",
    "    <meta charset=\"UTF-8\">\n",
    "    <title>Title</title>\n",
    "</head>\n",
    "<body>\n",
    "<h1>Hello World</h1>\n",
    "</body>\n",
    "</html>\n",
    "```"
   ]
  },
  {
   "cell_type": "markdown",
   "id": "9fb16ef5",
   "metadata": {
    "slideshow": {
     "slide_type": "subslide"
    }
   },
   "source": [
    "## Run \n",
    "Idea creates automatically a Run Configuration.\n",
    "\n",
    "Command line uses\n",
    "```bash\n",
    "mvn spring-boot:run\n",
    "```\n"
   ]
  },
  {
   "cell_type": "markdown",
   "id": "1ae26e42",
   "metadata": {
    "slideshow": {
     "slide_type": "subslide"
    }
   },
   "source": [
    "## First Result\n",
    "\n",
    "http://localhost:8080/"
   ]
  },
  {
   "cell_type": "markdown",
   "id": "0f231b7f",
   "metadata": {
    "slideshow": {
     "slide_type": "subslide"
    }
   },
   "source": [
    "## Create a package and run it\n",
    "```bash\n",
    "mvn install \n",
    "java -jar target/helloworld-0.0.1-SNAPSHOT.jar\n",
    "```\n"
   ]
  },
  {
   "cell_type": "markdown",
   "id": "685afa75",
   "metadata": {
    "slideshow": {
     "slide_type": "slide"
    }
   },
   "source": [
    "# Spring Boot Web"
   ]
  },
  {
   "cell_type": "markdown",
   "id": "8eadab7e",
   "metadata": {
    "cell_style": "split",
    "slideshow": {
     "slide_type": "fragment"
    }
   },
   "source": [
    "Contains all needed to build:\n",
    "- web app\n",
    "- web services"
   ]
  },
  {
   "cell_type": "markdown",
   "id": "ed910c25",
   "metadata": {
    "cell_style": "split",
    "slideshow": {
     "slide_type": "fragment"
    }
   },
   "source": [
    "![](https://i.imgflip.com/75034f.jpg)"
   ]
  },
  {
   "cell_type": "markdown",
   "id": "42fc73d4",
   "metadata": {
    "slideshow": {
     "slide_type": "subslide"
    }
   },
   "source": [
    "## Tomcat Inside"
   ]
  },
  {
   "cell_type": "markdown",
   "id": "a593be58",
   "metadata": {
    "slideshow": {
     "slide_type": "fragment"
    }
   },
   "source": [
    "- Spring boot adds Tomcat (no need to install) in the final package"
   ]
  },
  {
   "cell_type": "markdown",
   "id": "0df7f3ce",
   "metadata": {
    "slideshow": {
     "slide_type": "fragment"
    }
   },
   "source": [
    "- with Default [Configuration](https://docs.spring.io/spring-boot/docs/2.1.9.RELEASE/reference/html/howto-embedded-web-servers.html) -> Needs to be configured"
   ]
  },
  {
   "cell_type": "markdown",
   "id": "412e7bb3",
   "metadata": {
    "slideshow": {
     "slide_type": "fragment"
    }
   },
   "source": [
    "- Other Container Server are possible (Jetty, ...)"
   ]
  },
  {
   "cell_type": "markdown",
   "id": "367b5c1e",
   "metadata": {
    "slideshow": {
     "slide_type": "fragment"
    }
   },
   "source": [
    "- Configuration goes in application.properties or application.yaml"
   ]
  },
  {
   "cell_type": "markdown",
   "id": "799ed77e",
   "metadata": {
    "slideshow": {
     "slide_type": "subslide"
    }
   },
   "source": [
    "## Json Inside"
   ]
  },
  {
   "cell_type": "markdown",
   "id": "91d365ad",
   "metadata": {
    "cell_style": "split",
    "slideshow": {
     "slide_type": "fragment"
    }
   },
   "source": [
    "- Jackson library included \n",
    "- Automatic (un)marshalling"
   ]
  },
  {
   "cell_type": "markdown",
   "id": "7a0540d1",
   "metadata": {
    "cell_style": "split",
    "slideshow": {
     "slide_type": "fragment"
    }
   },
   "source": [
    "![](https://www.logicbig.com/tutorials/misc/jackson/images/jackson.png)\n",
    "\n",
    "https://github.com/FasterXML/jackson"
   ]
  },
  {
   "cell_type": "markdown",
   "id": "65ac2ddc",
   "metadata": {
    "slideshow": {
     "slide_type": "subslide"
    }
   },
   "source": [
    "## Spring Boot Web Application"
   ]
  },
  {
   "cell_type": "markdown",
   "id": "1fba5a65",
   "metadata": {
    "slideshow": {
     "slide_type": "subslide"
    }
   },
   "source": [
    "### MVC pattern\n",
    "\n",
    "\n",
    "Diagram of interactions within one possible take on the MVC pattern\n",
    "Model–view–controller (MVC) is a software architectural pattern commonly used for developing user interfaces that divide the related program logic into three interconnected elements.\n",
    "\n",
    "![](https://upload.wikimedia.org/wikipedia/commons/thumb/a/a0/MVC-Process.svg/400px-MVC-Process.svg.png)\n",
    "https://en.wikipedia.org/wiki/Model–view–controller"
   ]
  },
  {
   "cell_type": "markdown",
   "id": "88148553",
   "metadata": {
    "slideshow": {
     "slide_type": "subslide"
    }
   },
   "source": [
    "## View\n",
    "- View: Template [Thymeleaf](https://www.thymeleaf.org/)\n",
    "- Model to define the object\n",
    "- Controller to get data"
   ]
  },
  {
   "cell_type": "markdown",
   "id": "0c85c943",
   "metadata": {
    "slideshow": {
     "slide_type": "subslide"
    }
   },
   "source": [
    "## Define a new project"
   ]
  },
  {
   "cell_type": "markdown",
   "id": "dda9f782",
   "metadata": {
    "slideshow": {
     "slide_type": "fragment"
    }
   },
   "source": [
    "![](images/springboot-webapp-student.png)\n",
    "https://start.spring.io/#!type=maven-project&language=java&platformVersion=3.0.0&packaging=jar&jvmVersion=17&groupId=edu.unict.tswd.springboot&artifactId=student&name=student&description=Students&packageName=edu.unict.tswd.springboot.student&dependencies=web,thymeleaf"
   ]
  },
  {
   "cell_type": "markdown",
   "id": "16326a75",
   "metadata": {
    "slideshow": {
     "slide_type": "subslide"
    }
   },
   "source": [
    "## Thymeleaf Templates"
   ]
  },
  {
   "cell_type": "markdown",
   "id": "456e162a",
   "metadata": {
    "slideshow": {
     "slide_type": "fragment"
    }
   },
   "source": [
    "Create an HTML file named students.html into resources/templates"
   ]
  },
  {
   "cell_type": "markdown",
   "id": "1c26addc",
   "metadata": {
    "slideshow": {
     "slide_type": "subslide"
    }
   },
   "source": [
    "```html\n",
    "<!DOCTYPE html>\n",
    "<html lang=\"en\" xmlns:th=\"http://www.thymeleaf.org\">\n",
    "<head>\n",
    "    <meta charset=\"UTF-8\">\n",
    "    <title>Title</title>\n",
    "</head>\n",
    "<body>\n",
    "<table>\n",
    "    <tr>\n",
    "        <th>Id</th>\n",
    "        <th>Name</th>\n",
    "    </tr>\n",
    "    <tr th:each=\"student:${students}\">\n",
    "        <td th:text=\"${student.id}\">Id</td>\n",
    "        <td th:text=\"${student.name}\">Name</td>\n",
    "    </tr>\n",
    "</table>\n",
    "</body>\n",
    "</html>\n",
    "```"
   ]
  },
  {
   "cell_type": "markdown",
   "id": "38e5daa6",
   "metadata": {
    "slideshow": {
     "slide_type": "subslide"
    }
   },
   "source": [
    "## Models\n",
    "- add a new package \"models\"\n",
    "- add a new class \"student\" with fields id name, constructor, getter and setter"
   ]
  },
  {
   "cell_type": "markdown",
   "id": "07774d02",
   "metadata": {
    "slideshow": {
     "slide_type": "subslide"
    }
   },
   "source": [
    "```java\n",
    "package edu.unict.tswd.springboot.student.models;\n",
    "\n",
    "public class Student {\n",
    "    private long id;\n",
    "    private String name;\n",
    "\n",
    "    public Student() {\n",
    "    }\n",
    "\n",
    "    public Student(long id, String name) {\n",
    "        this.id = id;\n",
    "        this.name = name;\n",
    "    }\n",
    "\n",
    "    public long getId() {\n",
    "        return id;\n",
    "    }\n",
    "\n",
    "    public String getName() {\n",
    "        return name;\n",
    "    }\n",
    "\n",
    "    public void setId(long id) {\n",
    "        this.id = id;\n",
    "    }\n",
    "\n",
    "    public void setName(String name) {\n",
    "        this.name = name;\n",
    "    }\n",
    "}\n",
    "```"
   ]
  },
  {
   "cell_type": "markdown",
   "id": "adff6f24",
   "metadata": {
    "slideshow": {
     "slide_type": "subslide"
    }
   },
   "source": [
    "## Package\n",
    "- new package \"controller\"\n",
    "- new class \"StudentController\"\n",
    "** annotate with \"@Controller\" \"@requestmapping to handle /students\"\n",
    "** in construct add a list with static elements\n",
    "** add a getAllStudents with @GetMapping Annotation"
   ]
  },
  {
   "cell_type": "markdown",
   "id": "6f5da832",
   "metadata": {
    "slideshow": {
     "slide_type": "subslide"
    }
   },
   "source": [
    "```java\n",
    "package edu.unict.tswd.springboot.student.controllers;\n",
    "\n",
    "import edu.unict.tswd.springboot.student.models.Student;\n",
    "import org.springframework.stereotype.Controller;\n",
    "import org.springframework.web.bind.annotation.GetMapping;\n",
    "import org.springframework.web.bind.annotation.RequestMapping;\n",
    "import org.springframework.ui.Model;\n",
    "\n",
    "import java.util.ArrayList;\n",
    "import java.util.List;\n",
    "\n",
    "@Controller\n",
    "@RequestMapping(\"/students\")\n",
    "public class StudentController {\n",
    "\n",
    "    private static List<Student> students = new ArrayList();\n",
    "    // Define a static block\n",
    "    static {\n",
    "        students.add(new Student(1,\"Harry Potter\"));\n",
    "    }\n",
    "\n",
    "    @GetMapping\n",
    "    public String getAllStudents(Model model) {\n",
    "        model.addAttribute(\"students\", students);\n",
    "        return \"students\"; // Name of the template\n",
    "    }\n",
    "}\n",
    "```"
   ]
  },
  {
   "cell_type": "markdown",
   "id": "a84a5096",
   "metadata": {
    "slideshow": {
     "slide_type": "subslide"
    }
   },
   "source": [
    "## Run\n",
    "\n",
    "http://localhost:8080/students"
   ]
  },
  {
   "cell_type": "markdown",
   "id": "e5b41226",
   "metadata": {
    "slideshow": {
     "slide_type": "slide"
    }
   },
   "source": [
    "# Global Picture \n",
    "\n",
    "https://miro.com/app/board/uXjVP0nzisg=/?share_link_id=799592494742"
   ]
  },
  {
   "cell_type": "markdown",
   "id": "565e08e3",
   "metadata": {
    "slideshow": {
     "slide_type": "subslide"
    }
   },
   "source": [
    "Other Examples:\n",
    "- https://github.com/spring-io/sagan\n",
    "- https://www.javatpoint.com/creating-a-simple-microservice"
   ]
  },
  {
   "cell_type": "markdown",
   "id": "75766ddf",
   "metadata": {
    "slideshow": {
     "slide_type": "subslide"
    }
   },
   "source": [
    "# References\n",
    "- https://spring.io/\n",
    "- https://vived.io/new-era-for-spring-spring-framework-6-0-spring-boot-3-0-and-only-jdk-17-jvm-weekly-22/\n",
    "- https://www.linkedin.com/learning/spring-boot-2-0-essential-training-2/\n",
    "- https://www.tutorialspoint.com/spring_boot/spring_boot_tutorial.pdf\n",
    "- https://docs.spring.io/spring-boot/docs/current/reference/pdf/spring-boot-reference.pdf\n",
    "- https://www.baeldung.com/spring-boot-3-spring-6-new\n",
    "- https://arnaud-nauwynck.github.io/docs/Intro-SpringBoot.pdf\n",
    "- http://cabibbo.dia.uniroma3.it/asw/pdf/asw825-spring-boot.pdf\n",
    "- https://www.linkedin.com/learning/spring-boot-2-0-essential-training-2/\n",
    "- https://www.geeksforgeeks.org/java-spring-boot-microservices-sample-project/\n",
    "- https://www.javatpoint.com/creating-a-simple-microservice\n",
    "- https://github.com/WendellAdriel/spring-microservices\n",
    "- https://www.twilio.com/blog/java-custom-queries-jdbctemplate-springboot\n",
    "- https://www.baeldung.com/spring-pathvariable\n",
    "- https://bushansirgur.in/spring-data-jpa-finder-methods-by-field-name-with-examples/\n",
    "- https://dev.to/brunodrugowick/four-steps-to-extend-a-spring-data-jpa-repository-with-your-own-code-53b0\n",
    "\n",
    "Books\n",
    "- Learning Spring Boot 3.0 - Third Edition\n",
    "- Beginning Spring Boot 3"
   ]
  },
  {
   "cell_type": "code",
   "execution_count": null,
   "id": "fe734138",
   "metadata": {},
   "outputs": [],
   "source": []
  }
 ],
 "metadata": {
  "celltoolbar": "Slideshow",
  "kernelspec": {
   "display_name": "Python 3 (ipykernel)",
   "language": "python",
   "name": "python3"
  },
  "language_info": {
   "codemirror_mode": {
    "name": "ipython",
    "version": 3
   },
   "file_extension": ".py",
   "mimetype": "text/x-python",
   "name": "python",
   "nbconvert_exporter": "python",
   "pygments_lexer": "ipython3",
   "version": "3.9.10"
  },
  "rise": {
   "autolaunch": true,
   "enable_chalkboard": "true",
   "footer": "<div class=\"tswd-footer\"> *** TSWD - 2023 ***</div>",
   "header": "<div class=\"tswd-header\"></div>",
   "scroll": true,
   "theme": "white"
  }
 },
 "nbformat": 4,
 "nbformat_minor": 5
}

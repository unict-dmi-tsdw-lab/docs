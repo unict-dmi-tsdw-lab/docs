{
 "cells": [
  {
   "cell_type": "markdown",
   "id": "a05c9530",
   "metadata": {
    "slideshow": {
     "slide_type": "slide"
    }
   },
   "source": [
    "# Threads"
   ]
  },
  {
   "cell_type": "markdown",
   "id": "2ab6832e",
   "metadata": {
    "slideshow": {
     "slide_type": "subslide"
    }
   },
   "source": [
    "![](https://besthqwallpapers.com/Uploads/6-1-2021/150648/thumb2-multicolored-threads-bright-lines-background-colored-threads-needle-creative-art.jpg)\n",
    "[Source](https://besthqwallpapers.com/abstract/multicolored-threads-bright-lines-background-colored-threads-needle-creative-art-150648)"
   ]
  },
  {
   "cell_type": "markdown",
   "id": "60deec7d",
   "metadata": {
    "cell_style": "center",
    "slideshow": {
     "slide_type": "subslide"
    }
   },
   "source": [
    "## a dictionary definition\n",
    "\n",
    "> something continuous or drawn out: such as\n",
    "> - a: a line of reasoning or train of thought that connects the parts in a sequence (as of ideas or events)\n",
    "\n",
    "https://www.merriam-webster.com/dictionary/thread"
   ]
  },
  {
   "cell_type": "markdown",
   "id": "e9981c75",
   "metadata": {
    "slideshow": {
     "slide_type": "subslide"
    }
   },
   "source": [
    "### A Thread in computing...\n",
    "\n",
    "First view with name of Task in OS/360 \n",
    "\n",
    "in 1967\n",
    "[\"Jerry\" Saltzer](https://en.wikipedia.org/wiki/Jerry_Saltzer) in his dissertation in 1996 credits [Victor A. Vyssotsky](https://en.wikipedia.org/wiki/Victor_A._Vyssotsky) for the term Thread while describing the concept of process "
   ]
  },
  {
   "cell_type": "markdown",
   "id": "63ae833f",
   "metadata": {
    "slideshow": {
     "slide_type": "subslide"
    }
   },
   "source": [
    "![](https://i.imgflip.com/6xy3a2.jpg)\n",
    "\n",
    "[NicsMeme](https://imgflip.com/i/6xy3a2)"
   ]
  },
  {
   "cell_type": "markdown",
   "id": "010e6299",
   "metadata": {
    "cell_style": "split",
    "slideshow": {
     "slide_type": "subslide"
    }
   },
   "source": [
    "- Jerry Saltzer developed Multics that inspired Unix, worked in design Internet and the \"end to end\" principle"
   ]
  },
  {
   "cell_type": "markdown",
   "id": "ab42f2a1",
   "metadata": {
    "cell_style": "split",
    "slideshow": {
     "slide_type": "fragment"
    }
   },
   "source": [
    "- Victor A. Vyssotsky worked in Multics, created a programming game [Darwin]\n",
    "(https://en.wikipedia.org/wiki/Darwin_(programming_game)) where players write progrmas to kill other programs and replicate"
   ]
  },
  {
   "cell_type": "markdown",
   "id": "176d61c5",
   "metadata": {
    "slideshow": {
     "slide_type": "subslide"
    }
   },
   "source": [
    "## What is a Thread ?"
   ]
  },
  {
   "cell_type": "markdown",
   "id": "6bd6c0c4",
   "metadata": {
    "cell_style": "split",
    "slideshow": {
     "slide_type": "fragment"
    }
   },
   "source": [
    "> A thread is a path of execution within a process. A process can contain multiple threads.\n",
    "\n",
    "https://www.geeksforgeeks.org/thread-in-operating-system/\n"
   ]
  },
  {
   "cell_type": "markdown",
   "id": "c2357b5d",
   "metadata": {
    "cell_style": "split",
    "slideshow": {
     "slide_type": "fragment"
    }
   },
   "source": [
    "![](https://upload.wikimedia.org/wikipedia/commons/a/a5/Multithreaded_process.svg) \n",
    "\n",
    "[I, Cburnett, CC BY-SA 3.0, via Wikimedia Commons](https://commons.wikimedia.org/wiki/File:Multithreaded_process.svg)"
   ]
  },
  {
   "cell_type": "markdown",
   "id": "8e5d61c1",
   "metadata": {
    "slideshow": {
     "slide_type": "subslide"
    }
   },
   "source": [
    "## Threading vs Multi Tasking"
   ]
  },
  {
   "cell_type": "markdown",
   "id": "d4f3edf6",
   "metadata": {
    "slideshow": {
     "slide_type": "fragment"
    }
   },
   "source": [
    "![](https://d8it4huxumps7.cloudfront.net/bites/wp-content/banners/2022/2/621c71de06c1e_multithreading_vs_multitasking.png?d=700x400)\n",
    "\n",
    "\n",
    "https://unstop.com/blog/multithreading-in-os"
   ]
  },
  {
   "cell_type": "markdown",
   "id": "dba682cd",
   "metadata": {
    "slideshow": {
     "slide_type": "subslide"
    }
   },
   "source": [
    "# Pro/Contra of MultiThreading"
   ]
  },
  {
   "cell_type": "markdown",
   "id": "07a798b0",
   "metadata": {
    "cell_style": "center",
    "slideshow": {
     "slide_type": "subslide"
    }
   },
   "source": [
    "## Advantages"
   ]
  },
  {
   "cell_type": "markdown",
   "id": "f4eecba5",
   "metadata": {
    "cell_style": "center",
    "slideshow": {
     "slide_type": "fragment"
    }
   },
   "source": [
    "- \"Lightweight\": Less resources needed to manage the lifecycle; "
   ]
  },
  {
   "cell_type": "markdown",
   "id": "f549c8fc",
   "metadata": {
    "cell_style": "center",
    "slideshow": {
     "slide_type": "fragment"
    }
   },
   "source": [
    "- \"Sharing\": Variables and resources are easily shared;"
   ]
  },
  {
   "cell_type": "markdown",
   "id": "b33a5c18",
   "metadata": {
    "cell_style": "center",
    "slideshow": {
     "slide_type": "fragment"
    }
   },
   "source": [
    "- \"Responsiveness\": In interactive software, thread manage slow operation;"
   ]
  },
  {
   "cell_type": "markdown",
   "id": "04912af6",
   "metadata": {
    "cell_style": "center",
    "slideshow": {
     "slide_type": "fragment"
    }
   },
   "source": [
    "- \"FasterContextSwitch\": with respect to Multitasking"
   ]
  },
  {
   "cell_type": "markdown",
   "id": "cff31c34",
   "metadata": {
    "slideshow": {
     "slide_type": "fragment"
    }
   },
   "source": [
    "- \"BetterCPUUsage\": leveraging on Multi(Processor|Core|Thread) CPU features;"
   ]
  },
  {
   "cell_type": "markdown",
   "id": "faad721f",
   "metadata": {
    "slideshow": {
     "slide_type": "subslide"
    }
   },
   "source": [
    "## Disadvantages"
   ]
  },
  {
   "cell_type": "markdown",
   "id": "2c4e9463",
   "metadata": {
    "slideshow": {
     "slide_type": "fragment"
    }
   },
   "source": [
    "- \"Crash\": A single thread crashing can distrupt the entire process;"
   ]
  },
  {
   "cell_type": "markdown",
   "id": "8886eec1",
   "metadata": {
    "slideshow": {
     "slide_type": "fragment"
    }
   },
   "source": [
    "- \"ExtremeThreading\": Too many thread can decrease performance;"
   ]
  },
  {
   "cell_type": "markdown",
   "id": "33c32a26",
   "metadata": {
    "slideshow": {
     "slide_type": "fragment"
    }
   },
   "source": [
    "- \"HardDebug\": Debug can be compex with respect a single thread application;"
   ]
  },
  {
   "cell_type": "markdown",
   "id": "56ff6f14",
   "metadata": {
    "slideshow": {
     "slide_type": "fragment"
    }
   },
   "source": [
    "- \"Scalability\": Threads are inside a single process so inside a single container/vm; "
   ]
  },
  {
   "cell_type": "markdown",
   "id": "8608a926",
   "metadata": {
    "slideshow": {
     "slide_type": "slide"
    }
   },
   "source": [
    "# Demo Time "
   ]
  },
  {
   "cell_type": "markdown",
   "id": "94799cea",
   "metadata": {
    "cell_style": "split",
    "slideshow": {
     "slide_type": "subslide"
    }
   },
   "source": [
    "## httpd\n",
    "https://httpd.apache.org/\n",
    "![](https://httpd.apache.org/images/httpd_logo_wide_new.png)"
   ]
  },
  {
   "cell_type": "markdown",
   "id": "9abef101",
   "metadata": {
    "cell_style": "split",
    "slideshow": {
     "slide_type": "fragment"
    }
   },
   "source": [
    "- Install httpd\n",
    "- Configure  mpm_event.conf\n",
    "- Play with ab\n",
    "- Monitor thread \n",
    "\n",
    "https://stackoverflow.com/questions/268680/how-can-i-monitor-the-thread-count-of-a-process-on-linux"
   ]
  },
  {
   "cell_type": "markdown",
   "id": "fb265e8e",
   "metadata": {
    "cell_style": "split",
    "slideshow": {
     "slide_type": "subslide"
    }
   },
   "source": [
    "## jconsole\n",
    "https://docs.oracle.com/en/java/javase/21/management/using-jconsole.html"
   ]
  },
  {
   "cell_type": "markdown",
   "id": "7f882ae8",
   "metadata": {
    "cell_style": "split",
    "slideshow": {
     "slide_type": "fragment"
    }
   },
   "source": [
    "- Inside JDK (bin)\n",
    "- Performance and resources usage"
   ]
  },
  {
   "cell_type": "markdown",
   "id": "36bea909",
   "metadata": {
    "slideshow": {
     "slide_type": "slide"
    }
   },
   "source": [
    "# Thread in Java"
   ]
  },
  {
   "cell_type": "markdown",
   "id": "6b7872bb",
   "metadata": {
    "slideshow": {
     "slide_type": "subslide"
    }
   },
   "source": [
    "### Let's start with an example"
   ]
  },
  {
   "cell_type": "markdown",
   "id": "d279064d",
   "metadata": {
    "slideshow": {
     "slide_type": "subslide"
    }
   },
   "source": [
    "Package edu.unict.tswd.thread.hellothread\n",
    "\n",
    "Class hello\n",
    "\n",
    "Simple program with 2 thread \n",
    "- main\n",
    "- myThread\n",
    "\n",
    "(Run in Code)"
   ]
  },
  {
   "cell_type": "markdown",
   "id": "af4c28ff",
   "metadata": {
    "slideshow": {
     "slide_type": "subslide"
    }
   },
   "source": [
    "## All is Object \n",
    "- A thread is an object \n",
    "- an instance java.lang.Thread or subclass\n",
    "- represents a separate path of execution \n",
    "- The running behaviour is managed by java.lang.Runnable() abstract\n",
    "- has a method run() that needs to be implemented "
   ]
  },
  {
   "cell_type": "markdown",
   "id": "72c8e051",
   "metadata": {
    "slideshow": {
     "slide_type": "subslide"
    }
   },
   "source": [
    "![](https://i.imgflip.com/6yjtl0.jpg)\n",
    "[NicsMeme](https://imgflip.com/i/6yjtl0)"
   ]
  },
  {
   "cell_type": "markdown",
   "id": "52df19c7",
   "metadata": {
    "slideshow": {
     "slide_type": "slide"
    }
   },
   "source": [
    "# Thread Class\n",
    "```javadoc\n",
    "public class Thread\n",
    "extends Object\n",
    "implements Runnable\n",
    "```\n",
    "https://docs.oracle.com/en/java/javase/21/docs/api/java.base/java/lang/Thread.html"
   ]
  },
  {
   "cell_type": "markdown",
   "id": "c261cedf",
   "metadata": {
    "cell_style": "split",
    "slideshow": {
     "slide_type": "subslide"
    }
   },
   "source": [
    "A *thread* is a thread of execution in a program \n",
    "\n",
    "The Java virtual machine allows an application to have multiple threads of execution running concurrently."
   ]
  },
  {
   "cell_type": "markdown",
   "id": "42cbfeea",
   "metadata": {
    "cell_style": "split",
    "slideshow": {
     "slide_type": "fragment"
    }
   },
   "source": [
    "![](https://i.imgflip.com/82wcwi.jpg)\n",
    "[NicsMeme](https://imgflip.com/i/82wcwi)"
   ]
  },
  {
   "cell_type": "markdown",
   "id": "f2cf3372",
   "metadata": {
    "slideshow": {
     "slide_type": "slide"
    }
   },
   "source": [
    "### Platform threads\n",
    "\n",
    "Thread supports the creation of platform threads that are typically mapped 1:1 to kernel threads scheduled by the operating system. Platform threads will usually have a large stack and other resources that are maintained by the operating system. Platforms threads are suitable for executing all types of tasks but may be a limited resource.\n",
    "\n",
    "Platform threads get an automatically generated thread name by default.\n",
    "\n",
    "Platform threads are designated daemon or non-daemon threads. When the Java virtual machine starts up, there is usually one non-daemon thread (the thread that typically calls the application's main method). The shutdown sequence begins when all started non-daemon threads have terminated. Unstarted non-daemon threads do not prevent the shutdown sequence from beginning.\n",
    "\n",
    "In addition to the daemon status, platform threads have a thread priority and are members of a thread group."
   ]
  },
  {
   "cell_type": "markdown",
   "id": "8ffac5c0",
   "metadata": {
    "slideshow": {
     "slide_type": "subslide"
    }
   },
   "source": [
    "## Types of threads"
   ]
  },
  {
   "cell_type": "markdown",
   "id": "2f0f2e01",
   "metadata": {
    "cell_style": "split",
    "slideshow": {
     "slide_type": "fragment"
    }
   },
   "source": [
    "### User\n",
    "- Any thread launched created by user\n",
    "- High Priority\n",
    "- Do a specific task"
   ]
  },
  {
   "cell_type": "markdown",
   "id": "6c3ba017",
   "metadata": {
    "cell_style": "split",
    "slideshow": {
     "slide_type": "fragment"
    }
   },
   "source": [
    "### Daemon \n",
    "- Created by JVM\n",
    "- Low priority\n",
    "- Do maintenance task (like GC)\n",
    "\n",
    "\n"
   ]
  },
  {
   "cell_type": "markdown",
   "id": "b6b6ec0a",
   "metadata": {},
   "source": [
    "## Thread attributes and features"
   ]
  },
  {
   "cell_type": "markdown",
   "id": "443d77e9",
   "metadata": {
    "cell_style": "split",
    "slideshow": {
     "slide_type": "subslide"
    }
   },
   "source": [
    "Attributes:\n",
    "- id\n",
    "- name\n",
    "- priority\n",
    "- stage"
   ]
  },
  {
   "cell_type": "markdown",
   "id": "d5af02bb",
   "metadata": {
    "cell_style": "split",
    "slideshow": {
     "slide_type": "fragment"
    }
   },
   "source": [
    "Methods\n",
    "- start()\n",
    "- sleep()\n",
    "- join()\n",
    "- interrupt()"
   ]
  },
  {
   "cell_type": "markdown",
   "id": "dde70a2c",
   "metadata": {
    "slideshow": {
     "slide_type": "subslide"
    }
   },
   "source": [
    "## Thread Life Cycle"
   ]
  },
  {
   "cell_type": "markdown",
   "id": "1100297c",
   "metadata": {
    "slideshow": {
     "slide_type": "subslide"
    }
   },
   "source": [
    "![](images/ThreadState.png)"
   ]
  },
  {
   "cell_type": "markdown",
   "id": "ba3a69e0",
   "metadata": {
    "slideshow": {
     "slide_type": "subslide"
    }
   },
   "source": [
    "## Methods to create a thread"
   ]
  },
  {
   "cell_type": "markdown",
   "id": "992acfd5",
   "metadata": {
    "slideshow": {
     "slide_type": "fragment"
    }
   },
   "source": [
    "Thread defines public constructors for creating platform threads and the start method to schedule threads to execute. Thread may be extended for customization and other advanced reasons although most applications should have little need to do this."
   ]
  },
  {
   "cell_type": "markdown",
   "id": "8565c095",
   "metadata": {
    "cell_style": "center",
    "slideshow": {
     "slide_type": "subslide"
    }
   },
   "source": [
    "### Method 1: Extends Thread\n",
    "\n",
    "- extends Thread class (see myThread)\n",
    "- implement run() \n",
    "- run start()\n",
    "\n",
    "```java\n",
    "public class myThread extends Thread {\n",
    "   ...\n",
    "   public void run() {\n",
    "   // do something\n",
    "  }\n",
    "}\n",
    "\n",
    "...\n",
    "myThread t = new myThread();\n",
    "t.start();\n",
    "```\n"
   ]
  },
  {
   "cell_type": "markdown",
   "id": "1eb4ed97",
   "metadata": {
    "cell_style": "center",
    "slideshow": {
     "slide_type": "subslide"
    }
   },
   "source": [
    "### Method 2: Implement Runnable\n",
    "- Implements a Runnable class (including run())\n",
    "- Create a Thread using implemented runnable\n",
    "- run start()\n",
    "\n",
    "```java\n",
    "public class myRunnable implements Runnable {\n",
    "    @Override\n",
    "    public void run() {\n",
    "     // do something\n",
    "  }\n",
    "}\n",
    "\n",
    "myRunnable myRunnable = new myRunnable();\n",
    "Thread myRunnableThread = new Thread(myRunnable);\n",
    "myRunnableThread.start();\n",
    "```"
   ]
  },
  {
   "cell_type": "markdown",
   "id": "1ee3da5c",
   "metadata": {
    "slideshow": {
     "slide_type": "subslide"
    }
   },
   "source": [
    "### Extend or Implements ?"
   ]
  },
  {
   "cell_type": "markdown",
   "id": "28111dc3",
   "metadata": {
    "slideshow": {
     "slide_type": "subslide"
    }
   },
   "source": [
    "### Extend or Implements ?"
   ]
  },
  {
   "cell_type": "markdown",
   "id": "a858d5a4",
   "metadata": {
    "cell_style": "split",
    "slideshow": {
     "slide_type": "fragment"
    }
   },
   "source": [
    "- Extend is more direct \n",
    "- Extend has tight coupling"
   ]
  },
  {
   "cell_type": "markdown",
   "id": "748f049c",
   "metadata": {
    "cell_style": "split",
    "slideshow": {
     "slide_type": "fragment"
    }
   },
   "source": [
    "- Implements Has 1 step more\n",
    "- Runnable allow multiple implementation and extension\n"
   ]
  },
  {
   "cell_type": "markdown",
   "id": "01b482d3",
   "metadata": {
    "slideshow": {
     "slide_type": "subslide"
    }
   },
   "source": [
    "Package edu.unict.tswd.thread.hellothread\n",
    "\n",
    "Class hello2\n",
    "\n",
    "Simple program with 2 thread \n",
    "- main\n",
    "- myThread created with Runnable\n",
    "\n",
    "(Run in Idea)"
   ]
  },
  {
   "cell_type": "markdown",
   "id": "b1c28347",
   "metadata": {
    "slideshow": {
     "slide_type": "slide"
    }
   },
   "source": [
    "### Method 3: Thread.Builder (Since: 21)\n",
    "https://docs.oracle.com/en/java/javase/21/docs/api/java.base/java/lang/Thread.Builder.html\n"
   ]
  },
  {
   "cell_type": "markdown",
   "id": "20e99b83",
   "metadata": {
    "slideshow": {
     "slide_type": "subslide"
    }
   },
   "source": [
    "Package edu.unict.tswd.thread.hellothread\n",
    "\n",
    "Class hello21\n",
    "\n",
    "Simple program with single thread created using lambda expression and new Thread Builder\n"
   ]
  },
  {
   "cell_type": "markdown",
   "id": "07b27d46",
   "metadata": {
    "slideshow": {
     "slide_type": "subslide"
    }
   },
   "source": [
    "Package edu.unict.tswd.thread.hellothread\n",
    "\n",
    "Class hello21builder\n",
    "\n",
    "Simple program with multiple threads created using lambda expression and new Thread Builder\n"
   ]
  },
  {
   "cell_type": "markdown",
   "id": "a7f48370",
   "metadata": {
    "slideshow": {
     "slide_type": "subslide"
    }
   },
   "source": [
    "### Sleep"
   ]
  },
  {
   "cell_type": "markdown",
   "id": "fcf7d4c4",
   "metadata": {
    "slideshow": {
     "slide_type": "fragment"
    }
   },
   "source": [
    "method sleep(long time)\n",
    "\n",
    "Sleep is BLOCKING\n",
    "\n",
    "https://docs.oracle.com/en/java/javase/21/docs/api/java.base/java/lang/Thread.html#sleep(long)"
   ]
  },
  {
   "cell_type": "markdown",
   "id": "962bc3a2",
   "metadata": {
    "slideshow": {
     "slide_type": "subslide"
    }
   },
   "source": [
    "Package edu.unict.tswd.thread.hellothread\n",
    "\n",
    "Class hello3\n",
    "\n",
    "Simple program with 2 thread and waits\n",
    "- main\n",
    "- myThread\n",
    "\n",
    "(Run in Idea)"
   ]
  },
  {
   "cell_type": "markdown",
   "id": "ce5f0595",
   "metadata": {
    "slideshow": {
     "slide_type": "subslide"
    }
   },
   "source": [
    "### Interrupt"
   ]
  },
  {
   "cell_type": "markdown",
   "id": "9cac9542",
   "metadata": {
    "slideshow": {
     "slide_type": "fragment"
    }
   },
   "source": [
    "Response to interrupt needs to be implemented\n",
    "\n",
    "Request to interrupt \n",
    "\n",
    "interrupt()\n",
    "\n",
    "invoked in the thread that needs to be interrupted \n",
    "if invoked during a blocking rises an exception \n",
    "\n",
    "isInterrupted()\n",
    "return current values\n",
    "\n",
    "interrupted()\n",
    "static"
   ]
  },
  {
   "cell_type": "markdown",
   "id": "3e530a20",
   "metadata": {
    "slideshow": {
     "slide_type": "subslide"
    }
   },
   "source": [
    "### Join"
   ]
  },
  {
   "cell_type": "markdown",
   "id": "48985383",
   "metadata": {
    "slideshow": {
     "slide_type": "fragment"
    }
   },
   "source": [
    "- No order garanteed, scheduler by default\n",
    "- If you need order you need to syncronize\n",
    "\n",
    "join(): wait for a particular Thread to wait (BLOCKING)\n",
    "\n",
    "if calling thread is interrupted  causes an exception\n",
    "\n",
    "join(millis): wait at most"
   ]
  },
  {
   "cell_type": "markdown",
   "id": "db0c84b5",
   "metadata": {
    "slideshow": {
     "slide_type": "subslide"
    }
   },
   "source": [
    "Package edu.unict.tswd.thread.hellothread\n",
    "\n",
    "Class hello4\n",
    "\n",
    "Simple program with 2 thread and waits\n",
    "- main\n",
    "- myThread\n",
    "\n",
    "(Run in Idea)"
   ]
  },
  {
   "cell_type": "markdown",
   "id": "89d5caa7",
   "metadata": {
    "slideshow": {
     "slide_type": "subslide"
    }
   },
   "source": [
    "## Other Methods\n",
    "- getId() (not unique)\n",
    "- getName()\n",
    "- getPriority() (1-10)\n",
    "- setPriority()\n",
    "- getState()\n",
    "- isAlive()\n"
   ]
  },
  {
   "cell_type": "markdown",
   "id": "cb091633",
   "metadata": {
    "slideshow": {
     "slide_type": "subslide"
    }
   },
   "source": [
    "![](images/ThreadgetState.png)"
   ]
  },
  {
   "cell_type": "markdown",
   "id": "90065b05",
   "metadata": {
    "slideshow": {
     "slide_type": "subslide"
    }
   },
   "source": [
    "Package edu.unict.tswd.thread.hellothread\n",
    "\n",
    "Class hello4\n",
    "\n",
    "Simple program with 2 thread and waits and status\n",
    "- main\n",
    "- myThread\n",
    "\n",
    "(Run in Idea)"
   ]
  },
  {
   "cell_type": "markdown",
   "id": "2e96bd51",
   "metadata": {
    "slideshow": {
     "slide_type": "subslide"
    }
   },
   "source": [
    "## Syncronize"
   ]
  },
  {
   "cell_type": "markdown",
   "id": "2ec72908",
   "metadata": {
    "cell_style": "split",
    "slideshow": {
     "slide_type": "fragment"
    }
   },
   "source": [
    "keyword to lock resources: syncronized\n",
    "\n",
    "Apply on\n",
    "- method\n",
    "- statements"
   ]
  },
  {
   "cell_type": "markdown",
   "id": "e96cf645",
   "metadata": {
    "cell_style": "split",
    "slideshow": {
     "slide_type": "fragment"
    }
   },
   "source": [
    "Methods (inherited by Object)\n",
    "- wait(): blocks the thread waiting for a notify;\n",
    "- notify(): awake a single thread;\n",
    "- notifyAll(): awake all waiting threads;\n"
   ]
  },
  {
   "cell_type": "markdown",
   "id": "b8aa50ec",
   "metadata": {
    "slideshow": {
     "slide_type": "slide"
    }
   },
   "source": [
    "# Examples"
   ]
  },
  {
   "cell_type": "raw",
   "id": "3d08f72a",
   "metadata": {
    "slideshow": {
     "slide_type": "subslide"
    }
   },
   "source": [
    "## 1. ProducerConsumer"
   ]
  },
  {
   "cell_type": "markdown",
   "id": "2ac5bc54",
   "metadata": {
    "slideshow": {
     "slide_type": "fragment"
    }
   },
   "source": [
    "Package edu.unict.tswd.thread.pc;\n",
    "\n",
    "- Producer / Consumer using a shared container\n",
    "- producer reads from stdin writes into container\n",
    "- consumer reads \n",
    "\n",
    "Practice:\n",
    "- change consumer using Runnable\n",
    "\n",
    "(Run in Idea)"
   ]
  },
  {
   "cell_type": "markdown",
   "id": "8dc3bb34",
   "metadata": {
    "slideshow": {
     "slide_type": "subslide"
    }
   },
   "source": [
    "## 2. EchoMultiThread\n",
    "\n",
    "Package edu.unict.tswd.socket.tcp.echoservermt;\n",
    "- Server waits for request, if any start a new thread to manage it\n",
    "- Clients creates new client thread\n",
    "- send 10 message\n",
    "\n",
    "\n",
    "(Run in Idea)"
   ]
  },
  {
   "cell_type": "markdown",
   "id": "8ff33f25",
   "metadata": {
    "slideshow": {
     "slide_type": "subslide"
    }
   },
   "source": [
    "# 3 GooseGame\n",
    "\n",
    "Scrivere un programma GiocoOca con 2 thread t0 e t1, che condividono la variabile intera turno con valore iniziale 0. Ciascun thread ha una propria variabile privata posizione, con valore iniziale 0.\n",
    "\n",
    "Il comportamento del thread tk (k=0,1) è il seguente:\n",
    "- se turno=-1, termina\n",
    "- se no, verifica che sia il proprio turno, cioè che turno=k, altrimenti va in attesa\n",
    "con wait()\n",
    "- lancia un dado a dieci facce, sia d il risultato\n",
    "- incrementa la propria posizione di d\n",
    "- se posizione ha superato il valore 100, scrive: “100 superato”, pone\n",
    "turno=-1, sveglia (con signal/notify) l'altro thread e termina\n",
    "- altrimenti pone turno=1-k, sveglia (con signal/notify) l’altro thread e ricomincia,\n",
    "dopo un ritardo di 500 ms (variate pure il ritardo, se volete, per comodità di\n",
    "visualizzazione).\n",
    "\n",
    "NB: per il thread k, l’altro thread è 1-k.\n",
    "\n",
    "Package edu.unict.tswd.thread.goosegame\n",
    "\n"
   ]
  },
  {
   "cell_type": "markdown",
   "id": "0060020c",
   "metadata": {
    "slideshow": {
     "slide_type": "slide"
    }
   },
   "source": [
    "# Project Loom\n",
    "![](http://cr.openjdk.java.net/~rpressler/loom/loom_banner1.png)\n",
    "https://wiki.openjdk.org/display/loom/Main"
   ]
  },
  {
   "cell_type": "markdown",
   "id": "36516ad9",
   "metadata": {
    "slideshow": {
     "slide_type": "fragment"
    }
   },
   "source": [
    "Project Loom is to intended to explore, incubate and deliver Java VM features and APIs built on top of them for the purpose of supporting easy-to-use, high-throughput lightweight concurrency and new programming models on the Java platform. "
   ]
  },
  {
   "cell_type": "markdown",
   "id": "980cb21d",
   "metadata": {
    "slideshow": {
     "slide_type": "subslide"
    }
   },
   "source": [
    "## Virtual threads\n",
    "https://openjdk.org/jeps/425\n",
    "\n",
    "Thread also supports the creation of virtual threads. Virtual threads are typically user-mode threads scheduled by the Java runtime rather than the operating system. Virtual threads will typically require few resources and a single Java virtual machine may support millions of virtual threads. Virtual threads are suitable for executing tasks that spend most of the time blocked, often waiting for I/O operations to complete. Virtual threads are not intended for long running CPU intensive operations.\n",
    "\n",
    "Virtual threads typically employ a small set of platform threads used as carrier threads. Locking and I/O operations are examples of operations where a carrier thread may be re-scheduled from one virtual thread to another. Code executing in a virtual thread is not aware of the underlying carrier thread. The currentThread() method, used to obtain a reference to the current thread, will always return the Thread object for the virtual thread.\n",
    "\n",
    "Virtual threads do not have a thread name by default. The getName method returns the empty string if a thread name is not set.\n",
    "\n",
    "Virtual threads are daemon threads and so do not prevent the shutdown sequence from beginning. Virtual threads have a fixed thread priority that cannot be changed."
   ]
  },
  {
   "cell_type": "markdown",
   "id": "d98523d4",
   "metadata": {
    "slideshow": {
     "slide_type": "subslide"
    }
   },
   "source": [
    "Package edu.unict.tswd.thread.hellothread\n",
    "\n",
    "Class hello21buildervirtual\n",
    "\n",
    "Simple program with single thread created using lambda expression and new Thread Builder and Virtual Thread\n"
   ]
  },
  {
   "cell_type": "markdown",
   "id": "75766ddf",
   "metadata": {
    "slideshow": {
     "slide_type": "subslide"
    }
   },
   "source": [
    "References\n",
    "- https://unixhealthcheck.com/blog?id=465\n",
    "- https://medium.com/swlh/understanding-java-threads-once-and-for-all-711f71e0ec1e\n",
    "- https://blog.devgenius.io/java-virtual-threads-715c162c6c39\n",
    "- https://en.wikipedia.org/wiki/Thread_(computing)\n",
    "- https://www.infoq.com/articles/java-virtual-threads/\n",
    "- https://medium.com/javarevisited/6-multithreading-and-concurrency-books-every-java-programmer-should-read-b6a08d2aae54\n",
    "- https://techdifferences.com/difference-between-multitasking-and-multithreading-in-os.html\n",
    "- http://www.lia.deis.unibo.it/Courses/RetiT/materiale/extra/threadj.pdf\n",
    "- https://www.infoq.com/articles/java-virtual-threads/\n",
    "- https://blog.devgenius.io/java-virtual-threads-715c162c6c39"
   ]
  }
 ],
 "metadata": {
  "celltoolbar": "Slideshow",
  "kernelspec": {
   "display_name": "Python 3 (ipykernel)",
   "language": "python",
   "name": "python3"
  },
  "language_info": {
   "codemirror_mode": {
    "name": "ipython",
    "version": 3
   },
   "file_extension": ".py",
   "mimetype": "text/x-python",
   "name": "python",
   "nbconvert_exporter": "python",
   "pygments_lexer": "ipython3",
   "version": "3.9.15"
  },
  "rise": {
   "autolaunch": true,
   "enable_chalkboard": "true",
   "footer": "<div class=\"tswd-footer\"> *** TSWD - 2023 ***</div>",
   "header": "<div class=\"tswd-header\"></div>",
   "scroll": true,
   "theme": "white"
  }
 },
 "nbformat": 4,
 "nbformat_minor": 5
}

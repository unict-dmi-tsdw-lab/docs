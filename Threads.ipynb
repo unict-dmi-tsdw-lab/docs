{
 "cells": [
  {
   "cell_type": "markdown",
   "id": "a05c9530",
   "metadata": {
    "slideshow": {
     "slide_type": "slide"
    }
   },
   "source": [
    "# Threads"
   ]
  },
  {
   "cell_type": "code",
   "execution_count": null,
   "id": "2eda4824",
   "metadata": {},
   "outputs": [],
   "source": []
  },
  {
   "cell_type": "code",
   "execution_count": null,
   "id": "259f8aba",
   "metadata": {},
   "outputs": [],
   "source": []
  },
  {
   "cell_type": "code",
   "execution_count": null,
   "id": "2891adc1",
   "metadata": {},
   "outputs": [],
   "source": []
  },
  {
   "cell_type": "markdown",
   "id": "2ab6832e",
   "metadata": {
    "slideshow": {
     "slide_type": "subslide"
    }
   },
   "source": [
    "![](https://img.besthqwallpapers.com/Uploads/6-1-2021/150648/multicolored-threads-bright-lines-background-colored-threads-needle-creative-art.jpg)\n",
    "[Source](https://besthqwallpapers.com/abstract/multicolored-threads-bright-lines-background-colored-threads-needle-creative-art-150648)"
   ]
  },
  {
   "cell_type": "markdown",
   "id": "60deec7d",
   "metadata": {
    "cell_style": "center",
    "slideshow": {
     "slide_type": "subslide"
    }
   },
   "source": [
    "## a dictionary definition\n",
    "\n",
    "> something continuous or drawn out: such as\n",
    "> - a: a line of reasoning or train of thought that connects the parts in a sequence (as of ideas or events)\n",
    "\n",
    "https://www.merriam-webster.com/dictionary/thread"
   ]
  },
  {
   "cell_type": "markdown",
   "id": "e9981c75",
   "metadata": {
    "slideshow": {
     "slide_type": "subslide"
    }
   },
   "source": [
    "### A Thread in computing...\n",
    "\n",
    "First view with name of Task in OS/360 \n",
    "\n",
    "in 1967\n",
    "[\"Jerry\" Saltzer](https://en.wikipedia.org/wiki/Jerry_Saltzer) in his dissertation in 1996 credits [Victor A. Vyssotsky](https://en.wikipedia.org/wiki/Victor_A._Vyssotsky) for the term Thread while describing the concept of process "
   ]
  },
  {
   "cell_type": "markdown",
   "id": "63ae833f",
   "metadata": {
    "slideshow": {
     "slide_type": "subslide"
    }
   },
   "source": [
    "![](https://i.imgflip.com/6xy3a2.jpg)\n",
    "\n",
    "[NicsMeme](https://imgflip.com/i/6xy3a2)"
   ]
  },
  {
   "cell_type": "markdown",
   "id": "010e6299",
   "metadata": {
    "cell_style": "split",
    "slideshow": {
     "slide_type": "subslide"
    }
   },
   "source": [
    "- Jerry Saltzer developed Multics that inspired Unix, worked in design Internet and the \"end to end\" principle"
   ]
  },
  {
   "cell_type": "markdown",
   "id": "ab42f2a1",
   "metadata": {
    "cell_style": "split",
    "slideshow": {
     "slide_type": "fragment"
    }
   },
   "source": [
    "- Victor A. Vyssotsky worked in Multics, created a programming game [Darwin]\n",
    "(https://en.wikipedia.org/wiki/Darwin_(programming_game)) where players write progrmas to kill other programs and replicate"
   ]
  },
  {
   "cell_type": "markdown",
   "id": "176d61c5",
   "metadata": {
    "slideshow": {
     "slide_type": "subslide"
    }
   },
   "source": [
    "## What is a Thread ?"
   ]
  },
  {
   "cell_type": "markdown",
   "id": "6bd6c0c4",
   "metadata": {
    "cell_style": "split",
    "slideshow": {
     "slide_type": "fragment"
    }
   },
   "source": [
    "> A thread is a path of execution within a process. A process can contain multiple threads.\n",
    "\n",
    "https://www.geeksforgeeks.org/thread-in-operating-system/\n"
   ]
  },
  {
   "cell_type": "markdown",
   "id": "c2357b5d",
   "metadata": {
    "cell_style": "split",
    "slideshow": {
     "slide_type": "fragment"
    }
   },
   "source": [
    "![](https://upload.wikimedia.org/wikipedia/commons/a/a5/Multithreaded_process.svg) \n",
    "\n",
    "[I, Cburnett, CC BY-SA 3.0, via Wikimedia Commons](https://commons.wikimedia.org/wiki/File:Multithreaded_process.svg)"
   ]
  },
  {
   "cell_type": "markdown",
   "id": "8e5d61c1",
   "metadata": {
    "slideshow": {
     "slide_type": "subslide"
    }
   },
   "source": [
    "## Threading vs Multi Tasking"
   ]
  },
  {
   "cell_type": "markdown",
   "id": "d4f3edf6",
   "metadata": {
    "slideshow": {
     "slide_type": "fragment"
    }
   },
   "source": [
    "![](https://d8it4huxumps7.cloudfront.net/bites/wp-content/banners/2022/2/621c71de06c1e_multithreading_vs_multitasking.png?d=700x400)\n",
    "\n",
    "\n",
    "https://unstop.com/blog/multithreading-in-os"
   ]
  },
  {
   "cell_type": "markdown",
   "id": "dba682cd",
   "metadata": {
    "slideshow": {
     "slide_type": "subslide"
    }
   },
   "source": [
    "# Pro/Contra of MultiThreading"
   ]
  },
  {
   "cell_type": "markdown",
   "id": "07a798b0",
   "metadata": {
    "cell_style": "center",
    "slideshow": {
     "slide_type": "subslide"
    }
   },
   "source": [
    "## Advantages"
   ]
  },
  {
   "cell_type": "markdown",
   "id": "f4eecba5",
   "metadata": {
    "cell_style": "center",
    "slideshow": {
     "slide_type": "fragment"
    }
   },
   "source": [
    "- \"Lightweight\": Less resources needed to manage the lifecycle; "
   ]
  },
  {
   "cell_type": "markdown",
   "id": "f549c8fc",
   "metadata": {
    "cell_style": "center",
    "slideshow": {
     "slide_type": "fragment"
    }
   },
   "source": [
    "- \"Sharing\": Variables and resources are easily shared;"
   ]
  },
  {
   "cell_type": "markdown",
   "id": "b33a5c18",
   "metadata": {
    "cell_style": "center",
    "slideshow": {
     "slide_type": "fragment"
    }
   },
   "source": [
    "- \"Responsiveness\": In interactive software, thread manage slow operation;"
   ]
  },
  {
   "cell_type": "markdown",
   "id": "04912af6",
   "metadata": {
    "cell_style": "center",
    "slideshow": {
     "slide_type": "fragment"
    }
   },
   "source": [
    "- \"FasterContextSwith\": with respect to Multitasking"
   ]
  },
  {
   "cell_type": "markdown",
   "id": "cff31c34",
   "metadata": {
    "slideshow": {
     "slide_type": "fragment"
    }
   },
   "source": [
    "- \"BetterCPUUsage\": leveraging on Multi(Processor|Core|Thread) CPU features;"
   ]
  },
  {
   "cell_type": "markdown",
   "id": "faad721f",
   "metadata": {
    "slideshow": {
     "slide_type": "subslide"
    }
   },
   "source": [
    "## Disadvantages"
   ]
  },
  {
   "cell_type": "markdown",
   "id": "2c4e9463",
   "metadata": {
    "slideshow": {
     "slide_type": "fragment"
    }
   },
   "source": [
    "- \"Crash\": A single thread crashing can distrupt the entire process;"
   ]
  },
  {
   "cell_type": "markdown",
   "id": "8886eec1",
   "metadata": {
    "slideshow": {
     "slide_type": "fragment"
    }
   },
   "source": [
    "- \"ExtremeThreading\": Too many thread can decrease performance;"
   ]
  },
  {
   "cell_type": "markdown",
   "id": "33c32a26",
   "metadata": {
    "slideshow": {
     "slide_type": "fragment"
    }
   },
   "source": [
    "- \"HardDebug\": Debug can be compex with respect a single thread application;"
   ]
  },
  {
   "cell_type": "markdown",
   "id": "56ff6f14",
   "metadata": {
    "slideshow": {
     "slide_type": "fragment"
    }
   },
   "source": [
    "- \"Scalability\": Threads are inside a single process so inside a single container/vm; "
   ]
  },
  {
   "cell_type": "markdown",
   "id": "8608a926",
   "metadata": {
    "slideshow": {
     "slide_type": "slide"
    }
   },
   "source": [
    "# Demo Time "
   ]
  },
  {
   "cell_type": "markdown",
   "id": "94799cea",
   "metadata": {
    "cell_style": "split",
    "slideshow": {
     "slide_type": "subslide"
    }
   },
   "source": [
    "## httpd\n",
    "https://httpd.apache.org/\n",
    "![](https://httpd.apache.org/images/httpd_logo_wide_new.png)"
   ]
  },
  {
   "cell_type": "markdown",
   "id": "9abef101",
   "metadata": {
    "cell_style": "split",
    "slideshow": {
     "slide_type": "fragment"
    }
   },
   "source": [
    "- Install httpd\n",
    "- Configure  mpm_event.conf\n",
    "- Play with ab\n",
    "- Monitor thread \n",
    "\n",
    "https://stackoverflow.com/questions/268680/how-can-i-monitor-the-thread-count-of-a-process-on-linux"
   ]
  },
  {
   "cell_type": "markdown",
   "id": "fb265e8e",
   "metadata": {
    "cell_style": "split",
    "slideshow": {
     "slide_type": "subslide"
    }
   },
   "source": [
    "## jconsole\n",
    "https://docs.oracle.com/en/java/javase/11/management/using-jconsole.html"
   ]
  },
  {
   "cell_type": "markdown",
   "id": "7f882ae8",
   "metadata": {
    "cell_style": "split",
    "slideshow": {
     "slide_type": "fragment"
    }
   },
   "source": [
    "- Inside JDK (bin)\n",
    "- Performance and resources usage"
   ]
  },
  {
   "cell_type": "markdown",
   "id": "36bea909",
   "metadata": {
    "slideshow": {
     "slide_type": "slide"
    }
   },
   "source": [
    "# Thread in Java"
   ]
  },
  {
   "cell_type": "markdown",
   "id": "6b7872bb",
   "metadata": {
    "slideshow": {
     "slide_type": "subslide"
    }
   },
   "source": [
    "### Let's start with an example"
   ]
  },
  {
   "cell_type": "markdown",
   "id": "d279064d",
   "metadata": {
    "slideshow": {
     "slide_type": "subslide"
    }
   },
   "source": [
    "Package edu.unict.tswd.thread.hellothread\n",
    "\n",
    "Class hello\n",
    "\n",
    "Simple program with 2 thread \n",
    "- main\n",
    "- myThread\n",
    "\n",
    "(Run in Idea)"
   ]
  },
  {
   "cell_type": "markdown",
   "id": "8ffac5c0",
   "metadata": {
    "slideshow": {
     "slide_type": "subslide"
    }
   },
   "source": [
    "## Types of threads"
   ]
  },
  {
   "cell_type": "markdown",
   "id": "2f0f2e01",
   "metadata": {
    "cell_style": "split",
    "slideshow": {
     "slide_type": "fragment"
    }
   },
   "source": [
    "### User\n",
    "- Any thread launched created by user\n",
    "- High Priority\n",
    "- Do a specific task"
   ]
  },
  {
   "cell_type": "markdown",
   "id": "6c3ba017",
   "metadata": {
    "cell_style": "split",
    "slideshow": {
     "slide_type": "fragment"
    }
   },
   "source": [
    "### Daemon \n",
    "- Created by JVM\n",
    "- Low priority\n",
    "- Do maintenance task (like GC)\n",
    "\n",
    "\n"
   ]
  },
  {
   "cell_type": "markdown",
   "id": "23c34ad1",
   "metadata": {
    "cell_style": "center",
    "slideshow": {
     "slide_type": "fragment"
    }
   },
   "source": [
    "JVM Kills all deamons when last user thread is terminated"
   ]
  },
  {
   "cell_type": "markdown",
   "id": "af4c28ff",
   "metadata": {
    "slideshow": {
     "slide_type": "subslide"
    }
   },
   "source": [
    "## All is Object \n",
    "- A thread is an object \n",
    "- an instance java.lang.Thread or subclass\n",
    "- represents a separate path of execution \n",
    "- The running behaviour is managed by java.lang.Runnable() abstract\n",
    "- has a method run() that needs to be implemented "
   ]
  },
  {
   "cell_type": "markdown",
   "id": "443d77e9",
   "metadata": {
    "cell_style": "split",
    "slideshow": {
     "slide_type": "subslide"
    }
   },
   "source": [
    "Attributes:\n",
    "- id\n",
    "- name\n",
    "- priority\n",
    "- stage"
   ]
  },
  {
   "cell_type": "markdown",
   "id": "d5af02bb",
   "metadata": {
    "cell_style": "split",
    "slideshow": {
     "slide_type": "fragment"
    }
   },
   "source": [
    "Methods\n",
    "- start()\n",
    "- sleep()\n",
    "- join()\n",
    "- interrupt()"
   ]
  },
  {
   "cell_type": "markdown",
   "id": "72c8e051",
   "metadata": {
    "slideshow": {
     "slide_type": "subslide"
    }
   },
   "source": [
    "![](https://i.imgflip.com/6yjtl0.jpg)\n",
    "[NicsMeme](https://imgflip.com/i/6yjtl0)"
   ]
  },
  {
   "cell_type": "markdown",
   "id": "ba3a69e0",
   "metadata": {
    "slideshow": {
     "slide_type": "subslide"
    }
   },
   "source": [
    "## Methods to create a thread"
   ]
  },
  {
   "cell_type": "markdown",
   "id": "8565c095",
   "metadata": {
    "cell_style": "split",
    "slideshow": {
     "slide_type": "subslide"
    }
   },
   "source": [
    "### Method 1: Extends Thread\n",
    "\n",
    "- extends Thread class (see myThread)\n",
    "- implement run() \n",
    "- run start()"
   ]
  },
  {
   "cell_type": "markdown",
   "id": "1eb4ed97",
   "metadata": {
    "cell_style": "split",
    "slideshow": {
     "slide_type": "fragment"
    }
   },
   "source": [
    "### Method 2: Implement Runnable\n",
    "- Implements a Runnable class (including run())\n",
    "- Create a Thread using implemented runnable\n",
    "- run start()"
   ]
  },
  {
   "cell_type": "markdown",
   "id": "1ee3da5c",
   "metadata": {
    "slideshow": {
     "slide_type": "subslide"
    }
   },
   "source": [
    "### Extend or Implements ?"
   ]
  },
  {
   "cell_type": "markdown",
   "id": "a858d5a4",
   "metadata": {
    "cell_style": "split",
    "slideshow": {
     "slide_type": "fragment"
    }
   },
   "source": [
    "- Extend is more direct \n",
    "- Extend has tight coupling"
   ]
  },
  {
   "cell_type": "markdown",
   "id": "748f049c",
   "metadata": {
    "cell_style": "split",
    "slideshow": {
     "slide_type": "fragment"
    }
   },
   "source": [
    "- Implements Has 1 step more\n",
    "- Runnable allow multiple implementation and extension\n"
   ]
  },
  {
   "cell_type": "markdown",
   "id": "01b482d3",
   "metadata": {
    "slideshow": {
     "slide_type": "subslide"
    }
   },
   "source": [
    "Package edu.unict.tswd.thread.hellothread\n",
    "\n",
    "Class hello2\n",
    "\n",
    "Simple program with 2 thread \n",
    "- main\n",
    "- myThread created with Runnable\n",
    "\n",
    "(Run in Idea)"
   ]
  },
  {
   "cell_type": "markdown",
   "id": "dde70a2c",
   "metadata": {
    "slideshow": {
     "slide_type": "subslide"
    }
   },
   "source": [
    "## Thread Life Cycle"
   ]
  },
  {
   "cell_type": "markdown",
   "id": "1100297c",
   "metadata": {
    "slideshow": {
     "slide_type": "subslide"
    }
   },
   "source": [
    "![](images/ThreadState.png)"
   ]
  },
  {
   "cell_type": "markdown",
   "id": "a7f48370",
   "metadata": {
    "slideshow": {
     "slide_type": "subslide"
    }
   },
   "source": [
    "### Sleep"
   ]
  },
  {
   "cell_type": "markdown",
   "id": "fcf7d4c4",
   "metadata": {
    "slideshow": {
     "slide_type": "fragment"
    }
   },
   "source": [
    "method sleep(long time)\n",
    "\n",
    "Sleep is BLOCKING\n",
    "\n",
    "https://docs.oracle.com/en/java/javase/11/docs/api/java.base/java/lang/Thread.html#sleep(long)"
   ]
  },
  {
   "cell_type": "markdown",
   "id": "962bc3a2",
   "metadata": {
    "slideshow": {
     "slide_type": "subslide"
    }
   },
   "source": [
    "Package edu.unict.tswd.thread.hellothread\n",
    "\n",
    "Class hello3\n",
    "\n",
    "Simple program with 2 thread and waits\n",
    "- main\n",
    "- myThread\n",
    "\n",
    "(Run in Idea)"
   ]
  },
  {
   "cell_type": "markdown",
   "id": "ce5f0595",
   "metadata": {
    "slideshow": {
     "slide_type": "subslide"
    }
   },
   "source": [
    "### Interrupt"
   ]
  },
  {
   "cell_type": "markdown",
   "id": "9cac9542",
   "metadata": {
    "slideshow": {
     "slide_type": "fragment"
    }
   },
   "source": [
    "Response to interrupt needs to be implemented\n",
    "\n",
    "Request to interrupt \n",
    "\n",
    "interrupt()\n",
    "\n",
    "invoked in the thread that needs to be interrupted \n",
    "if invoked during a blocking rises an exception \n",
    "\n",
    "isInterrupted()\n",
    "return current values\n",
    "\n",
    "interrupted()\n",
    "static"
   ]
  },
  {
   "cell_type": "markdown",
   "id": "3e530a20",
   "metadata": {
    "slideshow": {
     "slide_type": "subslide"
    }
   },
   "source": [
    "### Join"
   ]
  },
  {
   "cell_type": "markdown",
   "id": "48985383",
   "metadata": {
    "slideshow": {
     "slide_type": "fragment"
    }
   },
   "source": [
    "- No order garanteed, scheduler by default\n",
    "- If you need order you need to syncronize\n",
    "\n",
    "join(): wait for a particular Thread to wait (BLOCKING)\n",
    "\n",
    "if calling thread is interrupted  causes an exception\n",
    "\n",
    "join(millis): wait at most"
   ]
  },
  {
   "cell_type": "markdown",
   "id": "89d5caa7",
   "metadata": {
    "slideshow": {
     "slide_type": "subslide"
    }
   },
   "source": [
    "## Other Methods\n",
    "- getId() (not unique)\n",
    "- getName()\n",
    "- getPriority() (1-10)\n",
    "- setPriority()\n",
    "- getState()\n",
    "- isAlive()\n"
   ]
  },
  {
   "cell_type": "markdown",
   "id": "cb091633",
   "metadata": {
    "slideshow": {
     "slide_type": "subslide"
    }
   },
   "source": [
    "![](images/ThreadgetState.png)"
   ]
  },
  {
   "cell_type": "markdown",
   "id": "90065b05",
   "metadata": {
    "slideshow": {
     "slide_type": "subslide"
    }
   },
   "source": [
    "Package edu.unict.tswd.thread.hellothread\n",
    "\n",
    "Class hello4\n",
    "\n",
    "Simple program with 2 thread and waits and status\n",
    "- main\n",
    "- myThread\n",
    "\n",
    "(Run in Idea)"
   ]
  },
  {
   "cell_type": "markdown",
   "id": "2e96bd51",
   "metadata": {
    "slideshow": {
     "slide_type": "subslide"
    }
   },
   "source": [
    "## Syncronize"
   ]
  },
  {
   "cell_type": "markdown",
   "id": "2ec72908",
   "metadata": {
    "cell_style": "split",
    "slideshow": {
     "slide_type": "fragment"
    }
   },
   "source": [
    "keyword to lock resources: syncronized\n",
    "\n",
    "Apply on\n",
    "- method\n",
    "- statements"
   ]
  },
  {
   "cell_type": "markdown",
   "id": "e96cf645",
   "metadata": {
    "cell_style": "split",
    "slideshow": {
     "slide_type": "fragment"
    }
   },
   "source": [
    "Methods (inherited by Object)\n",
    "- wait(): blocks the thread waiting for a notify;\n",
    "- notify(): awake a single thread;\n",
    "- notifyAll(): awake all waiting threads;\n"
   ]
  },
  {
   "cell_type": "markdown",
   "id": "b8aa50ec",
   "metadata": {
    "slideshow": {
     "slide_type": "slide"
    }
   },
   "source": [
    "# Examples"
   ]
  },
  {
   "cell_type": "markdown",
   "id": "8dcb59bb",
   "metadata": {
    "slideshow": {
     "slide_type": "subslide"
    }
   },
   "source": [
    "## 1. ProducerConsumer"
   ]
  },
  {
   "cell_type": "markdown",
   "id": "2ac5bc54",
   "metadata": {
    "slideshow": {
     "slide_type": "fragment"
    }
   },
   "source": [
    "Package edu.unict.tswd.thread.pc;\n",
    "\n",
    "- Producer / Consumer using a shared container\n",
    "- producer reads from stdin writes into container\n",
    "- consumer reads \n",
    "\n",
    "Practice:\n",
    "- change consumer using Runnable\n",
    "\n",
    "(Run in Idea)"
   ]
  },
  {
   "cell_type": "markdown",
   "id": "8dc3bb34",
   "metadata": {
    "slideshow": {
     "slide_type": "subslide"
    }
   },
   "source": [
    "## 2. EchoMultiThread\n",
    "\n",
    "Package edu.unict.tswd.socket.tcp.echoservermt;\n",
    "- Server waits for request, if any start a new thread to manage it\n",
    "- Clients creates new client thread\n",
    "- send 10 message\n",
    "\n",
    "\n",
    "(Run in Idea)"
   ]
  },
  {
   "cell_type": "markdown",
   "id": "75766ddf",
   "metadata": {
    "slideshow": {
     "slide_type": "subslide"
    }
   },
   "source": [
    "References\n",
    "- https://unixhealthcheck.com/blog?id=465\n",
    "- https://medium.com/swlh/understanding-java-threads-once-and-for-all-711f71e0ec1e\n",
    "- https://blog.devgenius.io/java-virtual-threads-715c162c6c39\n",
    "- https://en.wikipedia.org/wiki/Thread_(computing)\n",
    "- https://www.infoq.com/articles/java-virtual-threads/\n",
    "- https://medium.com/javarevisited/6-multithreading-and-concurrency-books-every-java-programmer-should-read-b6a08d2aae54\n",
    "- https://techdifferences.com/difference-between-multitasking-and-multithreading-in-os.html\n",
    "- http://www.lia.deis.unibo.it/Courses/RetiT/materiale/extra/threadj.pdf"
   ]
  },
  {
   "cell_type": "markdown",
   "id": "4282dbeb",
   "metadata": {
    "slideshow": {
     "slide_type": "subslide"
    }
   },
   "source": [
    "## Virtual Thread \n",
    "- https://www.infoq.com/articles/java-virtual-threads/\n",
    "- https://blog.devgenius.io/java-virtual-threads-715c162c6c39"
   ]
  }
 ],
 "metadata": {
  "celltoolbar": "Slideshow",
  "kernelspec": {
   "display_name": "Python 3 (ipykernel)",
   "language": "python",
   "name": "python3"
  },
  "language_info": {
   "codemirror_mode": {
    "name": "ipython",
    "version": 3
   },
   "file_extension": ".py",
   "mimetype": "text/x-python",
   "name": "python",
   "nbconvert_exporter": "python",
   "pygments_lexer": "ipython3",
   "version": "3.9.10"
  },
  "rise": {
   "autolaunch": true,
   "enable_chalkboard": "true",
   "footer": "<div class=\"tswd-footer\"> *** TSWD - 2023 ***</div>",
   "header": "<div class=\"tswd-header\"></div>",
   "scroll": true,
   "theme": "white"
  }
 },
 "nbformat": 4,
 "nbformat_minor": 5
}

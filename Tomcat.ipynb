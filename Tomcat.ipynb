{
 "cells": [
  {
   "cell_type": "markdown",
   "id": "a05c9530",
   "metadata": {
    "slideshow": {
     "slide_type": "slide"
    }
   },
   "source": [
    "# Tomcat"
   ]
  },
  {
   "cell_type": "markdown",
   "id": "2ab6832e",
   "metadata": {
    "slideshow": {
     "slide_type": "fragment"
    }
   },
   "source": [
    "![](https://tomcat.apache.org/res/images/tomcat.png)"
   ]
  },
  {
   "cell_type": "markdown",
   "id": "417a7d56",
   "metadata": {
    "slideshow": {
     "slide_type": "subslide"
    }
   },
   "source": [
    "## What is ?"
   ]
  },
  {
   "cell_type": "markdown",
   "id": "679e7302",
   "metadata": {
    "slideshow": {
     "slide_type": "fragment"
    }
   },
   "source": [
    "The Apache Tomcat® software is an open source implementation of the Jakarta Servlet, Jakarta Server Pages, Jakarta Expression Language, Jakarta WebSocket, Jakarta Annotations and Jakarta Authentication specifications. These specifications are part of the [Jakarta EE platform](https://projects.eclipse.org/projects/ee4j.jakartaee-platform)."
   ]
  },
  {
   "cell_type": "markdown",
   "id": "9b29217e",
   "metadata": {
    "slideshow": {
     "slide_type": "fragment"
    }
   },
   "source": [
    "The Jakarta EE platform is the evolution of the Java EE platform. Tomcat 10 and later implement specifications developed as part of Jakarta EE. Tomcat 9 and earlier implement specifications developed as part of Java EE."
   ]
  },
  {
   "cell_type": "markdown",
   "id": "79b74a66",
   "metadata": {
    "slideshow": {
     "slide_type": "fragment"
    }
   },
   "source": [
    "He (James Duncan Davidson) came up with \"Tomcat\" since the animal represented something that could take care of itself and fend for itself. That's how he came up with the name."
   ]
  },
  {
   "cell_type": "markdown",
   "id": "0fcdca7b",
   "metadata": {
    "slideshow": {
     "slide_type": "slide"
    }
   },
   "source": [
    "# Is Tomcat an application server ?"
   ]
  },
  {
   "cell_type": "markdown",
   "id": "9493285f",
   "metadata": {
    "cell_style": "center",
    "slideshow": {
     "slide_type": "subslide"
    }
   },
   "source": [
    "![](https://i.imgflip.com/6zpkyh.jpg)\n",
    "[NicsMeme](https://imgflip.com/i/6zpkyh)"
   ]
  },
  {
   "cell_type": "markdown",
   "id": "7dbceeb1",
   "metadata": {
    "slideshow": {
     "slide_type": "subslide"
    }
   },
   "source": [
    "![](images/wikipedia-applicationserver.png)"
   ]
  },
  {
   "cell_type": "markdown",
   "id": "939e070d",
   "metadata": {
    "slideshow": {
     "slide_type": "subslide"
    }
   },
   "source": [
    "## Application Server\n",
    "\n",
    "### Synonyms\n",
    "Web application server; Java application server \n",
    "\n",
    "### Definition\n",
    "An Application Server is a dedicated software compo- nent in a three-tier or multi-tier architecture which provides application logic (business logic) and which allows for the separation of application logic from user interface functionality (client layer), delivery of data (web server), and data management (database server).\n",
    "\n",
    "### Key Points\n",
    "Modern information systems, especially information systems on the web, follow an architectural paradigm\n",
    "that is based on a separation of concerns. In contrast to monolithic (single tier) architectures or two-tier client/ server architectures where business logic is bundled with other functionality, three-tier or multi-tier archi- tectures consider dedicated application servers which exclusively focus on providing business logic.\n",
    "\n",
    "In three-tier or multi-tier architectures, application servers typically make use of several middleware services which enable the communication within and between layers. Application servers usually provide the basis for the execution of distributed applications with transactional guarantees on top of persistent data. In large-scale deployments, systems might encompass several instances of application servers (application server clusters). This allows for the distribution of client requests across application server instances for the purpose of load balancing.\n",
    "\n",
    "Early application servers evolved from distributed TP Monitors. Over time, a large variety of application servers has emerged. The most prominent class con- sists of Java application servers, either as stand-alone servers or embedded in large software systems.\n",
    "\n",
    "> Schuldt, H. (2018). Application Server. In: Liu, L., Özsu, M.T. (eds) Encyclopedia of Database Systems. Springer, New York, NY. https://doi.org/10.1007/978-1-4614-8265-9_665"
   ]
  },
  {
   "cell_type": "markdown",
   "id": "60deec7d",
   "metadata": {
    "cell_style": "split",
    "slideshow": {
     "slide_type": "subslide"
    }
   },
   "source": [
    "> Whichever the case, the truth though is that even though Tomcat cannot be technically defined as an application server, it is continuously and successfully being used as an application server for millions of mission-critical applications on a daily basis. The jury is still out there.\n",
    "\n",
    "https://javapipe.com/blog/tomcat-application-server/"
   ]
  },
  {
   "cell_type": "markdown",
   "id": "f0e60d76",
   "metadata": {
    "cell_style": "split",
    "slideshow": {
     "slide_type": "fragment"
    }
   },
   "source": [
    "![](images/java-developer-productivity-2022.png)\n",
    "\n",
    "https://www.jrebel.com/success/java-developer-productivity-report-2022"
   ]
  },
  {
   "cell_type": "markdown",
   "id": "83c8f539",
   "metadata": {
    "slideshow": {
     "slide_type": "subslide"
    }
   },
   "source": [
    "## Java EE"
   ]
  },
  {
   "cell_type": "markdown",
   "id": "50c8ecc2",
   "metadata": {
    "slideshow": {
     "slide_type": "subslide"
    }
   },
   "source": [
    "| Platform version | Released       | Specification | Java SESupport        | Important Changes                                                                                                   |\n",
    "|------------------|----------------|---------------|-----------------------|---------------------------------------------------------------------------------------------------------------------|\n",
    "| Jakarta EE 10    | 2022-09-13     | 10            | Java SE 17 Java SE 11 | Removal of deprecated items in Servlet, Faces, CDI and EJB (Entity Beans and Embeddable Container). CDI-Build Time. |\n",
    "| Jakarta EE 9.1   | 2021-05-25     | 9.1           | Java SE 11 Java SE 8  | JDK 11 support                                                                                                       |\n",
    "| Jakarta EE 9     | 2020-12-08     | 9             | Java SE 8             | API namespace move from javax to jakarta                                                                             |\n",
    "| Jakarta EE 8     | 2019-09-10     | 8             | Java SE 8             | Full compatibility with Java EE 8                                                                                   |\n",
    "| Java EE 8        | 2017-08-31     | JSR 366       | Java SE 8             | HTTP/2 and CDI based Security                                                                                       |\n",
    "| Java EE 7        | 2013-05-28     | JSR 342       | Java SE 7             | WebSocket, JSON and HTML5 support                                                                                   |\n",
    "| Java EE 6        | 2009-12-10     | JSR 316       | Java SE 6             | CDI managed Beans and REST                                                                                           |\n",
    "| Java EE 5        | 2006-05-11     | JSR 244       | Java SE 5             | Java annotations                                                                                                     |\n",
    "| J2EE 1.4         | 2003-11-11     | JSR 151       | J2SE 1.4              | WS-I interoperable web services[13]                                                                                 |\n",
    "| J2EE 1.3         | 2001-09-24     | JSR 58        | J2SE 1.3              | Java connector architecture[14]                                                                                     |\n",
    "| J2EE 1.2         | 1999-12-17     | 1.2           | J2SE 1.2              | Initial specification release  \n",
    "\n",
    "[Source](https://en.wikipedia.org/wiki/Jakarta_EE)"
   ]
  },
  {
   "cell_type": "markdown",
   "id": "da32e2be",
   "metadata": {
    "slideshow": {
     "slide_type": "slide"
    }
   },
   "source": [
    "## Let's make it run"
   ]
  },
  {
   "cell_type": "markdown",
   "id": "bd22ad4a",
   "metadata": {
    "slideshow": {
     "slide_type": "subslide"
    }
   },
   "source": [
    "### 1. Local / VM"
   ]
  },
  {
   "cell_type": "markdown",
   "id": "9664e250",
   "metadata": {
    "slideshow": {
     "slide_type": "subslide"
    }
   },
   "source": [
    "### Read the () docs\n",
    "Download : https://tomcat.apache.org/download-10.cgi\n",
    "\n",
    "Setup: https://tomcat.apache.org/tomcat-10.1-doc/setup.html\n",
    "\n",
    "Run: \n",
    "```bash\n",
    "(base) nics@NicsM1 apache-tomcat-10.0.27 % ./bin/startup.sh\n",
    "Using CATALINA_BASE:   /Users/nics/Dev/apache-tomcat-10.0.27\n",
    "Using CATALINA_HOME:   /Users/nics/Dev/apache-tomcat-10.0.27\n",
    "Using CATALINA_TMPDIR: /Users/nics/Dev/apache-tomcat-10.0.27/temp\n",
    "Using JRE_HOME:        /Users/nics/Library/Java/JavaVirtualMachines/openjdk-18/Contents/Home\n",
    "Using CLASSPATH:       /Users/nics/Dev/apache-tomcat-10.0.27/bin/bootstrap.jar:/Users/nics/Dev/apache-tomcat-10.0.27/bin/tomcat-juli.jar\n",
    "Using CATALINA_OPTS:\n",
    "Tomcat started.\n",
    "```\n",
    "\n",
    "Use:\n",
    "http://localhost:8080"
   ]
  },
  {
   "cell_type": "markdown",
   "id": "e0e12a25",
   "metadata": {
    "slideshow": {
     "slide_type": "fragment"
    }
   },
   "source": [
    "#### 1.1 In Idea\n",
    "After installed is possibile to add tomcat (we will see next lesson)"
   ]
  },
  {
   "cell_type": "markdown",
   "id": "7c0a7b2a",
   "metadata": {
    "slideshow": {
     "slide_type": "subslide"
    }
   },
   "source": [
    "### 2. Docker"
   ]
  },
  {
   "cell_type": "markdown",
   "id": "5824b152",
   "metadata": {
    "slideshow": {
     "slide_type": "fragment"
    }
   },
   "source": [
    "Simply run\n",
    "```bash\n",
    "docker run -it --rm -p 9000:8080 tomcat:10.0\n",
    "```"
   ]
  },
  {
   "cell_type": "markdown",
   "id": "2be42c42",
   "metadata": {
    "slideshow": {
     "slide_type": "fragment"
    }
   },
   "source": [
    "Then go to http://localhost:9000"
   ]
  },
  {
   "cell_type": "markdown",
   "id": "f26b15b7",
   "metadata": {
    "slideshow": {
     "slide_type": "fragment"
    }
   },
   "source": [
    "![](https://i.imgflip.com/6zqjsr.jpg)\n",
    "\n",
    "[NicsMeme](https://imgflip.com/i/6zqjsr)"
   ]
  },
  {
   "cell_type": "markdown",
   "id": "bc9e6715",
   "metadata": {
    "cell_style": "split",
    "slideshow": {
     "slide_type": "subslide"
    }
   },
   "source": [
    "### The Reason \n",
    "Due to https://tomcat.apache.org/tomcat-10.0-doc/security-howto.html#Default_web_applications\n",
    "\n",
    "Default Web Apps are disabled\n",
    "https://github.com/docker-library/tomcat/pull/181"
   ]
  },
  {
   "cell_type": "markdown",
   "id": "36e58cb5",
   "metadata": {
    "cell_style": "split",
    "slideshow": {
     "slide_type": "fragment"
    }
   },
   "source": [
    "### A solution for testing\n",
    "https://charith.xyz/docker/accessing-tomcat-manager-of-an-app-deployed-on-docker/"
   ]
  },
  {
   "cell_type": "markdown",
   "id": "0d5f0594",
   "metadata": {
    "slideshow": {
     "slide_type": "subslide"
    }
   },
   "source": [
    "### 3. Cloud"
   ]
  },
  {
   "cell_type": "markdown",
   "id": "da646d9a",
   "metadata": {
    "slideshow": {
     "slide_type": "subslide"
    }
   },
   "source": [
    "#### PaaS"
   ]
  },
  {
   "cell_type": "markdown",
   "id": "c41b7729",
   "metadata": {
    "cell_style": "split",
    "slideshow": {
     "slide_type": "subslide"
    }
   },
   "source": [
    "##### Azure App Services\n",
    "https://azure.microsoft.com/en-us/products/app-service/#overview\n",
    "\n",
    "https://learn.microsoft.com/en-us/azure/app-service/quickstart-java?tabs=tomcat&pivots=platform-linux-development-environment-maven\n",
    "\n",
    "\n"
   ]
  },
  {
   "cell_type": "markdown",
   "id": "9fc8708f",
   "metadata": {
    "cell_style": "split",
    "slideshow": {
     "slide_type": "fragment"
    }
   },
   "source": [
    "![](images/app-services-tomcat.png)"
   ]
  },
  {
   "cell_type": "markdown",
   "id": "6c9fb4c3",
   "metadata": {
    "cell_style": "split",
    "slideshow": {
     "slide_type": "subslide"
    }
   },
   "source": [
    "##### Elastic Beanstalk\n",
    "https://aws.amazon.com/elasticbeanstalk/?nc1=h_ls\n",
    "\n",
    "https://docs.aws.amazon.com/elasticbeanstalk/latest/dg/java-tomcat-platform.html\n",
    "\n",
    "https://docs.aws.amazon.com/elasticbeanstalk/latest/dg/create_deploy_Java.html"
   ]
  },
  {
   "cell_type": "markdown",
   "id": "1a38534a",
   "metadata": {
    "cell_style": "split",
    "slideshow": {
     "slide_type": "fragment"
    }
   },
   "source": [
    "![](images/elastic-beanstalk-tomcat.png)"
   ]
  },
  {
   "cell_type": "markdown",
   "id": "6a58ef73",
   "metadata": {
    "cell_style": "split",
    "slideshow": {
     "slide_type": "subslide"
    }
   },
   "source": [
    "##### App Engine\n",
    "https://cloud.google.com/appengine\n",
    "\n",
    "https://github.com/GoogleCloudPlatform/tomcat-runtime\n",
    "\n",
    "https://cloud.google.com/blog/topics/developers-practitioners/introducing-google-clouds-tomcat-migration-tooling"
   ]
  },
  {
   "cell_type": "markdown",
   "id": "5cc76ea6",
   "metadata": {
    "cell_style": "split",
    "slideshow": {
     "slide_type": "fragment"
    }
   },
   "source": [
    "![](https://cloud.google.com/static/migrate/containers/docs/images/windows-migration-steps.svg)"
   ]
  },
  {
   "cell_type": "markdown",
   "id": "69b4f0e8",
   "metadata": {
    "slideshow": {
     "slide_type": "subslide"
    }
   },
   "source": [
    "#### Iaas"
   ]
  },
  {
   "cell_type": "markdown",
   "id": "b742e595",
   "metadata": {
    "slideshow": {
     "slide_type": "fragment"
    }
   },
   "source": [
    "Same as install with a need of a Load Balancer on top"
   ]
  },
  {
   "cell_type": "markdown",
   "id": "fec6478c",
   "metadata": {},
   "source": [
    "#### Caas"
   ]
  },
  {
   "cell_type": "markdown",
   "id": "2b5d57fd",
   "metadata": {},
   "source": [
    "https://www.xenonstack.com/blog/caas-vs-paas"
   ]
  },
  {
   "cell_type": "markdown",
   "id": "630fa551",
   "metadata": {
    "slideshow": {
     "slide_type": "slide"
    }
   },
   "source": [
    "# Tomcat Default Applications\n",
    "\n",
    "https://tomcat.apache.org/tomcat-10.0-doc/security-howto.html#Default_web_applications"
   ]
  },
  {
   "cell_type": "markdown",
   "id": "07232e05",
   "metadata": {
    "slideshow": {
     "slide_type": "slide"
    }
   },
   "source": [
    "# Tomcat Architecture"
   ]
  },
  {
   "cell_type": "markdown",
   "id": "183c5299",
   "metadata": {
    "slideshow": {
     "slide_type": "subslide"
    }
   },
   "source": [
    "![](https://www.atatus.com/blog/content/images/2022/02/Tomcat-architecture.png)\n",
    "\n",
    "https://www.atatus.com/blog/tomcat-performance-monitoring/#Tomcat%20Server%20Architecture"
   ]
  },
  {
   "cell_type": "markdown",
   "id": "4dd2d851",
   "metadata": {
    "slideshow": {
     "slide_type": "slide"
    }
   },
   "source": [
    "# Tomcat Configuration"
   ]
  },
  {
   "cell_type": "markdown",
   "id": "61012d9d",
   "metadata": {},
   "source": [
    "Visual"
   ]
  },
  {
   "cell_type": "markdown",
   "id": "75766ddf",
   "metadata": {
    "slideshow": {
     "slide_type": "subslide"
    }
   },
   "source": [
    "## References\n",
    "- https://www.theserverside.com/news/1363671/What-is-an-App-Server\n",
    "- https://www.infoworld.com/article/2077354/app-server-web-server-what-s-the-difference.html\n",
    "- https://www.infoworld.com/article/2076845/application-servers--an-introduction.html\n",
    "- https://serverguy.com/servers/open-source-java-ee-application-servers/\n",
    "- https://javapipe.com/blog/tomcat-application-server/\n"
   ]
  },
  {
   "cell_type": "markdown",
   "id": "cf414066",
   "metadata": {
    "slideshow": {
     "slide_type": "slide"
    }
   },
   "source": [
    "# WASD History"
   ]
  },
  {
   "cell_type": "markdown",
   "id": "d111d0bc",
   "metadata": {
    "cell_style": "split",
    "slideshow": {
     "slide_type": "fragment"
    }
   },
   "source": [
    "![](https://upload.wikimedia.org/wikipedia/commons/thumb/1/14/ASUS_ROG_Strix_G15_%28G513QY-HQ012T%29-top_keyboard_WASD_PNr°0888.jpg/440px-ASUS_ROG_Strix_G15_%28G513QY-HQ012T%29-top_keyboard_WASD_PNr°0888.jpg)\n",
    "https://en.wiktionary.org/wiki/WASD"
   ]
  },
  {
   "cell_type": "markdown",
   "id": "a3514d59",
   "metadata": {
    "cell_style": "split",
    "slideshow": {
     "slide_type": "fragment"
    }
   },
   "source": [
    "# Web\n",
    "# Application\n",
    "# Software \n",
    "# Develpment"
   ]
  },
  {
   "cell_type": "markdown",
   "id": "61cbc9e8",
   "metadata": {
    "slideshow": {
     "slide_type": "subslide"
    }
   },
   "source": [
    "## Miro\n",
    "https://miro.com/app/board/uXjVPHiNSlQ=/"
   ]
  }
 ],
 "metadata": {
  "celltoolbar": "Slideshow",
  "kernelspec": {
   "display_name": "Python 3 (ipykernel)",
   "language": "python",
   "name": "python3"
  },
  "language_info": {
   "codemirror_mode": {
    "name": "ipython",
    "version": 3
   },
   "file_extension": ".py",
   "mimetype": "text/x-python",
   "name": "python",
   "nbconvert_exporter": "python",
   "pygments_lexer": "ipython3",
   "version": "3.9.10"
  },
  "rise": {
   "autolaunch": true,
   "enable_chalkboard": "true",
   "footer": "<div class=\"tswd-footer\"> *** TSWD - 2023 ***</div>",
   "header": "<div class=\"tswd-header\"></div>",
   "scroll": true,
   "theme": "white"
  }
 },
 "nbformat": 4,
 "nbformat_minor": 5
}
